{
  "nbformat": 4,
  "nbformat_minor": 0,
  "metadata": {
    "colab": {
      "name": "CNN. Part 1.ipynb",
      "version": "0.3.2",
      "provenance": [],
      "collapsed_sections": []
    },
    "kernelspec": {
      "name": "python3",
      "display_name": "Python 3"
    },
    "accelerator": "GPU"
  },
  "cells": [
    {
      "cell_type": "markdown",
      "metadata": {
        "id": "Rn8ilyMiMMEX",
        "colab_type": "text"
      },
      "source": [
        "# Сверточные нейронные сети"
      ]
    },
    {
      "cell_type": "markdown",
      "metadata": {
        "id": "6Y0cfIJqNQHx",
        "colab_type": "text"
      },
      "source": [
        "## Что такое сверточный слой?\n",
        "\n",
        "Сверточный слой - более упрощенный слой, который позволяет сократить количество параметров сети. Важной особенностью слоя является то, что производится операция свертки слоя c набором весов. \n",
        "\n",
        "Формально, математическая модель определена следующим образом:\n",
        "\n",
        "рассмотрим двумерный канал изображения размером $W \\times H$, определим сверточный слой с ядром размера $K \\times K$ как операцию свертки для каждого квадрата размером $K \\times K$ с матрицей весов.\n",
        "\n",
        "Параметры сверточного слоя:\n",
        "\n",
        "* количество входных фильтров - $in$\n",
        "* количество выходных фильтров - $out$.\n",
        "\n",
        "Для каждого фильтра для пикселя выход определяется следующим образом:\n",
        "\n",
        "$$\n",
        "   out_{i,j} = \\sum_{s = -[(k-1)/2]}^{[k/2]} \\sum_{t=-[(k-1)/2]}^{[k/2]} W_{s, t} I_{i +s, j + t} + b,\n",
        "$$\n",
        "\n",
        "где $W$ - матрица весов для фильтра, $b$ - смещение (bias), $I$ - фильтр (двумерный массив размера $W \\times H$), к которому применяется свертка.\n",
        "\n",
        "**Вопрос**. Какое количество тренируемых параметров используется в сверточном слое?\n",
        "\n",
        "**Ответ** $(K \\times K + 1) \\times in \\times out$.\n",
        "\n"
      ]
    },
    {
      "cell_type": "markdown",
      "metadata": {
        "id": "Mu_lZbDquH83",
        "colab_type": "text"
      },
      "source": [
        "## Дополнительные параметры сверточного слоя\n",
        "\n",
        "Дополнительно необходимо определить следующие параметры сверточного слоя:\n",
        "* stride - шаг, с каким производится свертка\n",
        "* padding - начальное и конечное положение, с которого начинается свертка.\n",
        "\n",
        "**Вопрос.** Какой будет размер выходного фильтра, если используется свертка с ядром $K \\times K$, stride - (1, 1), начало и конец находятся в вершинах изображения?\n",
        "\n",
        "**Ответ.** $ (W - K + 1) \\times (H - K + 1)$.\n",
        "\n",
        "Чтобы размер фильтра не менялся, применяется следующая стратегия: входной фильтр дополняется нулями таким образом, чтобы размер выходного слоя был $W \\times H$. Такая стратегия называется same padding. Изначальная стратегия называется valid padding.\n",
        "\n",
        "Приступим к реализации сверточного слоя"
      ]
    },
    {
      "cell_type": "code",
      "metadata": {
        "id": "EuM2w5OdNTdB",
        "colab_type": "code",
        "colab": {}
      },
      "source": [
        "import numpy as np\n",
        "def conv2d_one_filter(X, W, padding='same', stride=(1, 1)):\n",
        "    \"\"\"\n",
        "        @param X: input image, [w \\times h]\n",
        "        @param W: weights, [K \\times K]\n",
        "        @param padding: padding type - same or full\n",
        "    \"\"\"\n",
        "    \n",
        "    kernel_y, kernel_x = W.shape[:2]\n",
        "    \n",
        "    # Calculating shape of new pad\n",
        "    \n",
        "    if padding == 'same':\n",
        "        y_shape = X.shape[0] + kernel_y - 1\n",
        "        x_shape = X.shape[1] + kernel_x - 1\n",
        "    else:\n",
        "        y_shape, x_shape = X.shape[:2]\n",
        "    \n",
        "    x_padded = np.zeros((y_shape, x_shape), dtype=X.dtype)\n",
        "    print(x_padded.shape)\n",
        "    \n",
        "    if padding == 'valid':\n",
        "        padding_left = 0\n",
        "        padding_top = 0\n",
        "    else:\n",
        "        padding_left = (kernel_x - 1) // 2\n",
        "        padding_top = (kernel_y - 1) // 2\n",
        "    \n",
        "    x_padded[\n",
        "        padding_top:padding_top + X.shape[0],\n",
        "        padding_left:padding_left + X.shape[1]\n",
        "    ] = X\n",
        "\n",
        "    result = np.zeros((x_padded.shape[0] - kernel_y + 1, x_padded.shape[1] - kernel_x + 1))\n",
        "    \n",
        "    for y in range(x_padded.shape[0]):\n",
        "        for x in range(x_padded.shape[1]):\n",
        "            if y + kernel_y > x_padded.shape[0] or x + kernel_x > x_padded.shape[1]:\n",
        "                continue\n",
        "            result[y, x] = np.sum(x_padded[y:y + kernel_y, x:x + kernel_x] * W)\n",
        "    return result\n",
        "  "
      ],
      "execution_count": 0,
      "outputs": []
    },
    {
      "cell_type": "code",
      "metadata": {
        "id": "VHe6XxUXw1KS",
        "colab_type": "code",
        "colab": {}
      },
      "source": [
        "import scipy.signal"
      ],
      "execution_count": 0,
      "outputs": []
    },
    {
      "cell_type": "code",
      "metadata": {
        "id": "PE64oiFUw2T8",
        "colab_type": "code",
        "outputId": "b7fbf417-e7ee-4a8d-fbc6-265333093a03",
        "colab": {
          "base_uri": "https://localhost:8080/",
          "height": 85
        }
      },
      "source": [
        "conv2d_one_filter(np.array([\n",
        "   [1, 2, 3],\n",
        "   [4, 5, 6],\n",
        "   [7, 8, 9]\n",
        "]), np.array([\n",
        "        [1, 2, 3],\n",
        "        [4, 5, 6],\n",
        "        [7, 8, 9]\n",
        "    ])\n",
        ")"
      ],
      "execution_count": 0,
      "outputs": [
        {
          "output_type": "stream",
          "text": [
            "(5, 5)\n"
          ],
          "name": "stdout"
        },
        {
          "output_type": "execute_result",
          "data": {
            "text/plain": [
              "array([[ 94., 154., 106.],\n",
              "       [186., 285., 186.],\n",
              "       [106., 154.,  94.]])"
            ]
          },
          "metadata": {
            "tags": []
          },
          "execution_count": 14
        }
      ]
    },
    {
      "cell_type": "code",
      "metadata": {
        "id": "qkYNiro7yOJO",
        "colab_type": "code",
        "colab": {}
      },
      "source": [
        "import tensorflow as tf"
      ],
      "execution_count": 0,
      "outputs": []
    },
    {
      "cell_type": "code",
      "metadata": {
        "id": "OaY1ruOIz8p0",
        "colab_type": "code",
        "colab": {}
      },
      "source": [
        "sess = tf.InteractiveSession()\n",
        "a = tf.placeholder(tf.float32, [1, 3, 3, 1])\n",
        "w = tf.placeholder(tf.float32, [3, 3, 1, 1])\n",
        "out_same = tf.nn.conv2d(a, w, padding='SAME')\n",
        "out_valid = tf.nn.conv2d(a, w, padding='VALID')"
      ],
      "execution_count": 0,
      "outputs": []
    },
    {
      "cell_type": "code",
      "metadata": {
        "id": "99vctnk70ZoY",
        "colab_type": "code",
        "outputId": "5b788917-fb54-47c4-d62d-e1db274320bb",
        "colab": {
          "base_uri": "https://localhost:8080/",
          "height": 204
        }
      },
      "source": [
        "sess.run(out_same, feed_dict={\n",
        "    a: np.array([\n",
        "        [1, 2, 3],\n",
        "        [4, 5, 6],\n",
        "        [7, 8, 9]\n",
        "    ]).reshape((1, 3, 3, 1)),\n",
        "    w: np.array([\n",
        "        [1, 2, 3],\n",
        "        [4, 5, 6],\n",
        "        [7, 8, 9]\n",
        "    ]).reshape((3, 3, 1, 1))\n",
        "})"
      ],
      "execution_count": 0,
      "outputs": [
        {
          "output_type": "execute_result",
          "data": {
            "text/plain": [
              "array([[[[ 94.],\n",
              "         [154.],\n",
              "         [106.]],\n",
              "\n",
              "        [[186.],\n",
              "         [285.],\n",
              "         [186.]],\n",
              "\n",
              "        [[106.],\n",
              "         [154.],\n",
              "         [ 94.]]]], dtype=float32)"
            ]
          },
          "metadata": {
            "tags": []
          },
          "execution_count": 18
        }
      ]
    },
    {
      "cell_type": "code",
      "metadata": {
        "id": "0VKhVVmE0oqA",
        "colab_type": "code",
        "outputId": "db33465e-4ddf-4832-dbb7-0e8d4cbc3092",
        "colab": {
          "base_uri": "https://localhost:8080/",
          "height": 34
        }
      },
      "source": [
        "sess.run(out_valid, feed_dict={\n",
        "    a: np.array([\n",
        "        [1, 2, 3],\n",
        "        [4, 5, 6],\n",
        "        [7, 8, 9]\n",
        "    ]).reshape((1, 3, 3, 1)),\n",
        "    w: np.array([\n",
        "        [1, 2, 3],\n",
        "        [4, 5, 6],\n",
        "        [7, 8, 9]\n",
        "    ]).reshape((3, 3, 1, 1))\n",
        "})"
      ],
      "execution_count": 0,
      "outputs": [
        {
          "output_type": "execute_result",
          "data": {
            "text/plain": [
              "array([[[[285.]]]], dtype=float32)"
            ]
          },
          "metadata": {
            "tags": []
          },
          "execution_count": 20
        }
      ]
    },
    {
      "cell_type": "markdown",
      "metadata": {
        "id": "bQ3A6rr60iDS",
        "colab_type": "text"
      },
      "source": [
        "##  Pooling"
      ]
    },
    {
      "cell_type": "code",
      "metadata": {
        "id": "UsN5QWZl0f1R",
        "colab_type": "code",
        "colab": {}
      },
      "source": [
        ""
      ],
      "execution_count": 0,
      "outputs": []
    },
    {
      "cell_type": "code",
      "metadata": {
        "id": "UZYNNqjr1QQ1",
        "colab_type": "code",
        "colab": {}
      },
      "source": [
        "a = tf.placeholder(tf.float32, (1, 3, 3, 1))"
      ],
      "execution_count": 0,
      "outputs": []
    },
    {
      "cell_type": "code",
      "metadata": {
        "id": "54mtRlzc1Vop",
        "colab_type": "code",
        "colab": {}
      },
      "source": [
        "pool_valid = tf.nn.max_pool2d(a, ksize=(2, 2), strides=(1, 1), padding='VALID')\n",
        "pool_same = tf.nn.max_pool2d(a, ksize=(2, 2), strides=(1, 1), padding='SAME')"
      ],
      "execution_count": 0,
      "outputs": []
    },
    {
      "cell_type": "code",
      "metadata": {
        "id": "_xqnRR-c1Y_Z",
        "colab_type": "code",
        "outputId": "5d27fac4-762d-42d1-d284-c4647e8890b7",
        "colab": {
          "base_uri": "https://localhost:8080/",
          "height": 102
        }
      },
      "source": [
        "sess.run(pool_valid, feed_dict={\n",
        "    a: np.array([\n",
        "        [1, 2, 3],\n",
        "        [4, 5, 6],\n",
        "        [7, 8, 9]\n",
        "    ]).reshape((1, 3, 3, 1)),\n",
        "})"
      ],
      "execution_count": 0,
      "outputs": [
        {
          "output_type": "execute_result",
          "data": {
            "text/plain": [
              "array([[[[5.],\n",
              "         [6.]],\n",
              "\n",
              "        [[8.],\n",
              "         [9.]]]], dtype=float32)"
            ]
          },
          "metadata": {
            "tags": []
          },
          "execution_count": 31
        }
      ]
    },
    {
      "cell_type": "code",
      "metadata": {
        "id": "ZNcPUMsd1aAI",
        "colab_type": "code",
        "outputId": "695a847e-cde3-4d18-b144-7955928189d9",
        "colab": {
          "base_uri": "https://localhost:8080/",
          "height": 204
        }
      },
      "source": [
        "sess.run(pool_same, feed_dict={\n",
        "    a: np.array([\n",
        "        [1, 2, 3],\n",
        "        [4, 5, 6],\n",
        "        [7, 8, 9]\n",
        "    ]).reshape((1, 3, 3, 1)),\n",
        "})"
      ],
      "execution_count": 0,
      "outputs": [
        {
          "output_type": "execute_result",
          "data": {
            "text/plain": [
              "array([[[[5.],\n",
              "         [6.],\n",
              "         [6.]],\n",
              "\n",
              "        [[8.],\n",
              "         [9.],\n",
              "         [9.]],\n",
              "\n",
              "        [[8.],\n",
              "         [9.],\n",
              "         [9.]]]], dtype=float32)"
            ]
          },
          "metadata": {
            "tags": []
          },
          "execution_count": 32
        }
      ]
    },
    {
      "cell_type": "code",
      "metadata": {
        "id": "0rtWJyJT2tgE",
        "colab_type": "code",
        "colab": {}
      },
      "source": [
        "import math"
      ],
      "execution_count": 0,
      "outputs": []
    },
    {
      "cell_type": "code",
      "metadata": {
        "id": "vBJya11N13PD",
        "colab_type": "code",
        "colab": {}
      },
      "source": [
        "def max_pooling(X, kernel_size=(2, 2), padding='same', strides=(2, 2)):\n",
        "    height, width = X.shape[:2]\n",
        "    if padding == 'same':\n",
        "        out_height = math.ceil(height / strides[0])\n",
        "        out_width = math.ceil(width / strides[1])\n",
        "    else:\n",
        "        out_height = (height - kernel_size[0] + 1) // strides[0]\n",
        "        out_width = (width - kernel_size[1] + 1) // strides[1]\n",
        "    \n",
        "    result = np.zeros((out_height, out_width), dtype=X.dtype)\n",
        "    \n",
        "    for y in range(out_height):\n",
        "        for x in range(out_width):\n",
        "            start_y = y * strides[0]\n",
        "            start_x = x * strides[1]\n",
        "            \n",
        "            result[y, x] = np.max(\n",
        "                X[\n",
        "                    start_y:start_y + kernel_size[0],\n",
        "                    start_x:start_x + kernel_size[1]\n",
        "                ]\n",
        "            )\n",
        "    return result"
      ],
      "execution_count": 0,
      "outputs": []
    },
    {
      "cell_type": "code",
      "metadata": {
        "id": "vQbwem4h4NkA",
        "colab_type": "code",
        "outputId": "0fcabb59-d798-4793-8fdb-f4d031b75a14",
        "colab": {
          "base_uri": "https://localhost:8080/",
          "height": 51
        }
      },
      "source": [
        "max_pooling(\n",
        "    X=np.array([\n",
        "        [1, 2, 3],\n",
        "        [4, 5, 6],\n",
        "        [7, 8, 9]\n",
        "    ])\n",
        ")"
      ],
      "execution_count": 0,
      "outputs": [
        {
          "output_type": "execute_result",
          "data": {
            "text/plain": [
              "array([[5, 6],\n",
              "       [8, 9]])"
            ]
          },
          "metadata": {
            "tags": []
          },
          "execution_count": 34
        }
      ]
    },
    {
      "cell_type": "code",
      "metadata": {
        "id": "eoNpdzQ44T3v",
        "colab_type": "code",
        "outputId": "efec79f0-484d-4f20-c12b-c86959bb93c7",
        "colab": {
          "base_uri": "https://localhost:8080/",
          "height": 34
        }
      },
      "source": [
        "max_pooling(\n",
        "    X=np.array([\n",
        "        [1, 2, 3],\n",
        "        [4, 5, 6],\n",
        "        [7, 8, 9]\n",
        "    ]),\n",
        "    padding='valid'\n",
        ")"
      ],
      "execution_count": 0,
      "outputs": [
        {
          "output_type": "execute_result",
          "data": {
            "text/plain": [
              "array([[5]])"
            ]
          },
          "metadata": {
            "tags": []
          },
          "execution_count": 35
        }
      ]
    },
    {
      "cell_type": "code",
      "metadata": {
        "id": "C6N1Kwbk4WpP",
        "colab_type": "code",
        "outputId": "305841d8-0700-48be-ddc0-8561c824ec5f",
        "colab": {
          "base_uri": "https://localhost:8080/",
          "height": 51
        }
      },
      "source": [
        "max_pooling(\n",
        "    X=np.array([\n",
        "        [1, 2, 3],\n",
        "        [4, 5, 6],\n",
        "        [7, 8, 9]\n",
        "    ]),\n",
        "    padding='valid',\n",
        "    strides=(1, 1)\n",
        ")"
      ],
      "execution_count": 0,
      "outputs": [
        {
          "output_type": "execute_result",
          "data": {
            "text/plain": [
              "array([[5, 6],\n",
              "       [8, 9]])"
            ]
          },
          "metadata": {
            "tags": []
          },
          "execution_count": 36
        }
      ]
    },
    {
      "cell_type": "code",
      "metadata": {
        "id": "9Cet0I6d4ZVX",
        "colab_type": "code",
        "outputId": "f87941d9-eac3-4771-a52c-84151f6700e7",
        "colab": {
          "base_uri": "https://localhost:8080/",
          "height": 68
        }
      },
      "source": [
        "max_pooling(\n",
        "    X=np.array([\n",
        "        [1, 2, 3],\n",
        "        [4, 5, 6],\n",
        "        [7, 8, 9]\n",
        "    ]),\n",
        "    padding='same',\n",
        "    strides=(1, 1)\n",
        ")"
      ],
      "execution_count": 0,
      "outputs": [
        {
          "output_type": "execute_result",
          "data": {
            "text/plain": [
              "array([[5, 6, 6],\n",
              "       [8, 9, 9],\n",
              "       [8, 9, 9]])"
            ]
          },
          "metadata": {
            "tags": []
          },
          "execution_count": 37
        }
      ]
    },
    {
      "cell_type": "markdown",
      "metadata": {
        "id": "gYt-zwnDK5jg",
        "colab_type": "text"
      },
      "source": [
        "## Базовые блоки"
      ]
    },
    {
      "cell_type": "code",
      "metadata": {
        "id": "gqQE9YAx5eJc",
        "colab_type": "code",
        "colab": {}
      },
      "source": [
        "import tensorflow as tf\n",
        "import numpy as np\n",
        "\n",
        "sess = tf.InteractiveSession()\n",
        "\n",
        "def conv_layer(\n",
        "        input_tensor,\n",
        "        output_channels,\n",
        "        name='conv',\n",
        "        kernel_size=(3, 3),\n",
        "        strides=(1, 1),\n",
        "        padding='SAME'\n",
        "    ):\n",
        "    with tf.variable_scope(name, reuse=tf.AUTO_REUSE):\n",
        "        input_shape = input_tensor.get_shape().as_list()\n",
        "        \n",
        "        input_channels = input_shape[-1]\n",
        "        \n",
        "        print(input_channels, output_channels)\n",
        "        \n",
        "        weights = tf.get_variable(name='weights', shape=[\n",
        "            kernel_size[0], kernel_size[1], input_channels, output_channels\n",
        "        ])\n",
        "        \n",
        "        bias = tf.get_variable(\n",
        "            name='bias',\n",
        "            shape=[output_channels],\n",
        "            initializer=tf.zeros_initializer()\n",
        "        )\n",
        "        \n",
        "        conv = tf.nn.conv2d(\n",
        "            input=input_tensor,\n",
        "            filter=weights,\n",
        "            strides=strides,\n",
        "            padding='SAME',\n",
        "            name='conv'\n",
        "        )\n",
        "        \n",
        "        output = tf.nn.bias_add(conv, bias, name='output')\n",
        "    return output"
      ],
      "execution_count": 0,
      "outputs": []
    },
    {
      "cell_type": "code",
      "metadata": {
        "id": "zucgYvJtK_o8",
        "colab_type": "code",
        "outputId": "b30e44f1-d524-420d-f75d-b57ffe834517",
        "colab": {
          "base_uri": "https://localhost:8080/",
          "height": 309
        }
      },
      "source": [
        "a = tf.placeholder(tf.float32, (1, 3, 3, 1))\n",
        "b = conv_layer(a, 3)\n",
        "example = np.array([[1, 2, 3], [4, 5, 6], [7, 8, 9]]).reshape((1, 3, 3, 1))\n",
        "sess.run(tf.global_variables_initializer())\n",
        "sess.run(b, feed_dict={\n",
        "    a: example\n",
        "})"
      ],
      "execution_count": 2,
      "outputs": [
        {
          "output_type": "stream",
          "text": [
            "WARNING: Logging before flag parsing goes to stderr.\n",
            "W0801 03:53:25.568849 140282845136768 deprecation.py:506] From /usr/local/lib/python3.6/dist-packages/tensorflow/python/ops/init_ops.py:1251: calling VarianceScaling.__init__ (from tensorflow.python.ops.init_ops) with dtype is deprecated and will be removed in a future version.\n",
            "Instructions for updating:\n",
            "Call initializer instance with the dtype argument instead of passing it to the constructor\n"
          ],
          "name": "stderr"
        },
        {
          "output_type": "stream",
          "text": [
            "1 3\n"
          ],
          "name": "stdout"
        },
        {
          "output_type": "execute_result",
          "data": {
            "text/plain": [
              "array([[[[ 1.6704243 , -1.9122701 ,  2.5705574 ],\n",
              "         [ 2.901064  , -0.47336888,  2.356792  ],\n",
              "         [ 2.8032932 ,  0.62707293, -0.0726012 ]],\n",
              "\n",
              "        [[ 2.284753  , -2.7253187 ,  4.190445  ],\n",
              "         [ 3.2131479 ,  0.36518097,  4.185956  ],\n",
              "         [ 3.217958  ,  1.2970138 , -0.58353454]],\n",
              "\n",
              "        [[-1.5768082 ,  2.2614088 , -0.20286119],\n",
              "         [-3.0438259 ,  4.614051  ,  2.0902288 ],\n",
              "         [-3.2161233 ,  2.65044   , -0.29446426]]]], dtype=float32)"
            ]
          },
          "metadata": {
            "tags": []
          },
          "execution_count": 2
        }
      ]
    },
    {
      "cell_type": "code",
      "metadata": {
        "id": "EZFAY4gMLF0s",
        "colab_type": "code",
        "colab": {}
      },
      "source": [
        "def max_pool(\n",
        "    input_tensor,\n",
        "    kernel_size=(2, 2),\n",
        "    strides=(2, 2),\n",
        "    padding='SAME',\n",
        "    name='pool'\n",
        "):\n",
        "    with tf.variable_scope(name, reuse=tf.AUTO_REUSE):\n",
        "        output = tf.nn.max_pool2d(input_tensor, ksize=kernel_size, strides=strides, padding=padding, name='pool')\n",
        "    return output"
      ],
      "execution_count": 0,
      "outputs": []
    },
    {
      "cell_type": "code",
      "metadata": {
        "id": "bOyKj4h7MCEN",
        "colab_type": "code",
        "outputId": "9137aeb5-7947-43d3-b34d-a3f9cf5212a9",
        "colab": {
          "base_uri": "https://localhost:8080/",
          "height": 102
        }
      },
      "source": [
        "a = tf.placeholder(tf.float32, (1, 3, 3, 1))\n",
        "b = max_pool(a)\n",
        "example = np.array([[1, 2, 3], [4, 5, 6], [7, 8, 9]]).reshape((1, 3, 3, 1))\n",
        "sess.run(tf.global_variables_initializer())\n",
        "sess.run(b, feed_dict={\n",
        "    a: example\n",
        "})"
      ],
      "execution_count": 4,
      "outputs": [
        {
          "output_type": "execute_result",
          "data": {
            "text/plain": [
              "array([[[[5.],\n",
              "         [6.]],\n",
              "\n",
              "        [[8.],\n",
              "         [9.]]]], dtype=float32)"
            ]
          },
          "metadata": {
            "tags": []
          },
          "execution_count": 4
        }
      ]
    },
    {
      "cell_type": "code",
      "metadata": {
        "id": "Cb0b_cQZ1STL",
        "colab_type": "code",
        "colab": {}
      },
      "source": [
        "def flatten(\n",
        "    input_tensor,\n",
        "    name='flatten'\n",
        "):\n",
        "    with tf.variable_scope(name, reuse=tf.AUTO_REUSE):\n",
        "        shape = input_tensor.get_shape().as_list()[1:]\n",
        "        num_elements = np.prod(shape)\n",
        "        return tf.reshape(input_tensor, [-1, num_elements], name='reshape')"
      ],
      "execution_count": 0,
      "outputs": []
    },
    {
      "cell_type": "code",
      "metadata": {
        "id": "Xw9fQKqU1-2G",
        "colab_type": "code",
        "outputId": "ed0f24c1-5075-4010-a1c5-f3b6b4b0d244",
        "colab": {
          "base_uri": "https://localhost:8080/",
          "height": 34
        }
      },
      "source": [
        "a = tf.zeros([1, 3, 3, 1])\n",
        "b = flatten(a)\n",
        "sess.run(b)"
      ],
      "execution_count": 6,
      "outputs": [
        {
          "output_type": "execute_result",
          "data": {
            "text/plain": [
              "array([[0., 0., 0., 0., 0., 0., 0., 0., 0.]], dtype=float32)"
            ]
          },
          "metadata": {
            "tags": []
          },
          "execution_count": 6
        }
      ]
    },
    {
      "cell_type": "code",
      "metadata": {
        "id": "FCu9X5fj2Hxs",
        "colab_type": "code",
        "colab": {}
      },
      "source": [
        "def dense(\n",
        "    input_tensor,\n",
        "    output_neurons,\n",
        "    name='fc'\n",
        "):\n",
        "    with tf.variable_scope(name, reuse=tf.AUTO_REUSE):\n",
        "        input_neurons = input_tensor.get_shape().as_list()[1]\n",
        "        \n",
        "        weights = tf.get_variable(\n",
        "            name='weights',\n",
        "            shape=[input_neurons, output_neurons]\n",
        "        )\n",
        "        \n",
        "        bias = tf.get_variable(\n",
        "            name='bias',\n",
        "            shape=[output_neurons]\n",
        "        )\n",
        "        \n",
        "        product = tf.matmul(input_tensor, weights, name='product')\n",
        "        \n",
        "        output = tf.nn.bias_add(product, bias, name='output')\n",
        "    return output"
      ],
      "execution_count": 0,
      "outputs": []
    },
    {
      "cell_type": "code",
      "metadata": {
        "id": "ZZh2Ho_G3EMh",
        "colab_type": "code",
        "colab": {}
      },
      "source": [
        "a = tf.zeros([1, 9])\n",
        "b = dense(a, 18, name='fc')"
      ],
      "execution_count": 0,
      "outputs": []
    },
    {
      "cell_type": "code",
      "metadata": {
        "id": "RYGBvW6_3JkZ",
        "colab_type": "code",
        "outputId": "83d5a2c1-35de-4b70-da3f-e631da5fc31e",
        "colab": {
          "base_uri": "https://localhost:8080/",
          "height": 85
        }
      },
      "source": [
        "sess.run(tf.global_variables_initializer())\n",
        "sess.run(b)"
      ],
      "execution_count": 9,
      "outputs": [
        {
          "output_type": "execute_result",
          "data": {
            "text/plain": [
              "array([[ 0.19376278, -0.31386226,  0.08469594,  0.2936358 , -0.03870419,\n",
              "         0.08749497, -0.28096232, -0.05978352,  0.0355446 , -0.10179138,\n",
              "        -0.35115668,  0.00046632,  0.39883834,  0.0027383 ,  0.1373114 ,\n",
              "         0.3092261 ,  0.19348109,  0.1815263 ]], dtype=float32)"
            ]
          },
          "metadata": {
            "tags": []
          },
          "execution_count": 9
        }
      ]
    },
    {
      "cell_type": "markdown",
      "metadata": {
        "id": "f59keuqT4bvm",
        "colab_type": "text"
      },
      "source": [
        "##Архитектуры сетей"
      ]
    },
    {
      "cell_type": "markdown",
      "metadata": {
        "id": "SZ1XGQeK5Hrd",
        "colab_type": "text"
      },
      "source": [
        "### LeNet"
      ]
    },
    {
      "cell_type": "code",
      "metadata": {
        "id": "Jzxeau5d3SSj",
        "colab_type": "code",
        "colab": {}
      },
      "source": [
        "def conv_block(x, output_channels, name, kernel_size=(3, 3), padding='SAME'):\n",
        "    with tf.variable_scope(name, reuse=tf.AUTO_REUSE):\n",
        "        conv_out = conv_layer(x, output_channels, kernel_size=kernel_size, padding=padding)\n",
        "        activation = tf.nn.relu(conv_out, name='relu')\n",
        "    return activation"
      ],
      "execution_count": 0,
      "outputs": []
    },
    {
      "cell_type": "code",
      "metadata": {
        "id": "KiJ-D0Ww3-By",
        "colab_type": "code",
        "outputId": "5ee7c082-b3d0-401c-b0b4-0facd6f44c25",
        "colab": {
          "base_uri": "https://localhost:8080/",
          "height": 34
        }
      },
      "source": [
        "a = tf.zeros((1, 3, 3, 1))\n",
        "b = conv_block(a, 6, 'conv1')"
      ],
      "execution_count": 0,
      "outputs": [
        {
          "output_type": "stream",
          "text": [
            "1 6\n"
          ],
          "name": "stdout"
        }
      ]
    },
    {
      "cell_type": "code",
      "metadata": {
        "id": "z8IjnuWs4fHK",
        "colab_type": "code",
        "outputId": "1825e888-46f3-4216-adfc-157cb95fc5a2",
        "colab": {
          "base_uri": "https://localhost:8080/",
          "height": 34
        }
      },
      "source": [
        "sess.run(tf.global_variables_initializer())\n",
        "sess.run(b).shape"
      ],
      "execution_count": 11,
      "outputs": [
        {
          "output_type": "execute_result",
          "data": {
            "text/plain": [
              "(1, 18)"
            ]
          },
          "metadata": {
            "tags": []
          },
          "execution_count": 11
        }
      ]
    },
    {
      "cell_type": "code",
      "metadata": {
        "id": "xy3B_3FT4wM0",
        "colab_type": "code",
        "colab": {}
      },
      "source": [
        "def le_net(input_tensor):\n",
        "    with tf.variable_scope('le_net', reuse=tf.AUTO_REUSE):\n",
        "        conv1_out = conv_block(\n",
        "            input_tensor, 6,\n",
        "            name='conv1',\n",
        "            kernel_size=(5, 5),\n",
        "            padding='VALID'\n",
        "        )\n",
        "        pool1_out = max_pool(conv1_out, name='pool1')\n",
        "        conv2_out = conv_block(\n",
        "            pool1_out, 16,\n",
        "            name='conv2',\n",
        "            kernel_size=(5, 5),\n",
        "            padding='VALID'\n",
        "        )\n",
        "        \n",
        "        pool2_out = max_pool(conv2_out, name='pool2')\n",
        "        \n",
        "        flatten_out = flatten(pool2_out)\n",
        "        \n",
        "        fc1_out = dense(flatten_out, 120, name='fc1')\n",
        "        fc2_out = dense(fc1_out, 84, name='fc2')\n",
        "        \n",
        "        output = dense(fc2_out, 10, name='fc3')\n",
        "    return output\n",
        "        "
      ],
      "execution_count": 0,
      "outputs": []
    },
    {
      "cell_type": "code",
      "metadata": {
        "id": "MY0ah_3_6v26",
        "colab_type": "code",
        "outputId": "3a4908fe-890c-47e1-efad-38ccc36af390",
        "colab": {
          "base_uri": "https://localhost:8080/",
          "height": 51
        }
      },
      "source": [
        "digits_placeholder = tf.placeholder(tf.float32, [None, 32, 32, 3])\n",
        "logits = le_net(digits_placeholder)"
      ],
      "execution_count": 23,
      "outputs": [
        {
          "output_type": "stream",
          "text": [
            "3 6\n",
            "6 16\n"
          ],
          "name": "stdout"
        }
      ]
    },
    {
      "cell_type": "code",
      "metadata": {
        "id": "aqOCKdLqxY5K",
        "colab_type": "code",
        "colab": {}
      },
      "source": [
        "labels_placeholder = tf.placeholder(tf.float32, [None, 10], name='le_net_labels')"
      ],
      "execution_count": 0,
      "outputs": []
    },
    {
      "cell_type": "code",
      "metadata": {
        "id": "7CNXR58_xkcN",
        "colab_type": "code",
        "outputId": "b68c7d63-3d5a-4de9-d948-02bb7b09e906",
        "colab": {
          "base_uri": "https://localhost:8080/",
          "height": 88
        }
      },
      "source": [
        "loss = tf.reduce_mean(tf.nn.sigmoid_cross_entropy_with_logits(\n",
        "    labels=labels_placeholder,\n",
        "    logits=logits\n",
        ")\n",
        ")"
      ],
      "execution_count": 15,
      "outputs": [
        {
          "output_type": "stream",
          "text": [
            "W0801 03:53:46.901546 140282845136768 deprecation.py:323] From /usr/local/lib/python3.6/dist-packages/tensorflow/python/ops/nn_impl.py:180: add_dispatch_support.<locals>.wrapper (from tensorflow.python.ops.array_ops) is deprecated and will be removed in a future version.\n",
            "Instructions for updating:\n",
            "Use tf.where in 2.0, which has the same broadcast rule as np.where\n"
          ],
          "name": "stderr"
        }
      ]
    },
    {
      "cell_type": "code",
      "metadata": {
        "id": "fipubrdsxwGB",
        "colab_type": "code",
        "colab": {}
      },
      "source": [
        "le_net_trainable_variables = tf.get_collection(tf.GraphKeys.TRAINABLE_VARIABLES, scope='le_net')\n",
        "optimizer = tf.train.AdamOptimizer(learning_rate=0.001).minimize(loss, var_list=le_net_trainable_variables)\n"
      ],
      "execution_count": 0,
      "outputs": []
    },
    {
      "cell_type": "code",
      "metadata": {
        "id": "4QpPR2KaWeyY",
        "colab_type": "code",
        "colab": {}
      },
      "source": [
        "le_net_predictions = tf.argmax(logits, axis=1)\n",
        "le_net_target = tf.argmax(labels_placeholder, axis=1)"
      ],
      "execution_count": 0,
      "outputs": []
    },
    {
      "cell_type": "code",
      "metadata": {
        "id": "FTe05E06Xvxu",
        "colab_type": "code",
        "colab": {}
      },
      "source": [
        "with tf.name_scope('le_net/metrics/train/'):\n",
        "    le_net_accuracy_train, le_net_accuracy_train_op = tf.metrics.accuracy(\n",
        "        labels=le_net_target,\n",
        "        predictions=le_net_predictions\n",
        "    )\n",
        "    le_net_train_loss, le_net_train_loss_op = tf.metrics.mean(values=loss, name='loss')\n",
        "with tf.name_scope('le_net/metrics/val/'):\n",
        "    le_net_accuracy_val, le_net_accuracy_val_op = tf.metrics.accuracy(\n",
        "        labels=le_net_target,\n",
        "        predictions=le_net_predictions\n",
        "    )\n",
        "    le_net_val_loss, le_net_val_loss_op = tf.metrics.mean(values=loss, name='loss')"
      ],
      "execution_count": 0,
      "outputs": []
    },
    {
      "cell_type": "code",
      "metadata": {
        "id": "N9_-qRSrkOBd",
        "colab_type": "code",
        "outputId": "da659a8d-a223-4c27-c0b3-0755f340cb09",
        "colab": {
          "base_uri": "https://localhost:8080/",
          "height": 425
        }
      },
      "source": [
        "tf.local_variables()"
      ],
      "execution_count": 0,
      "outputs": [
        {
          "output_type": "execute_result",
          "data": {
            "text/plain": [
              "[<tf.Variable 'le_net/metrics/train/accuracy/total:0' shape=() dtype=float32_ref>,\n",
              " <tf.Variable 'le_net/metrics/train/accuracy/count:0' shape=() dtype=float32_ref>,\n",
              " <tf.Variable 'le_net/metrics/train/loss/total:0' shape=() dtype=float32_ref>,\n",
              " <tf.Variable 'le_net/metrics/train/loss/count:0' shape=() dtype=float32_ref>,\n",
              " <tf.Variable 'le_net/metrics/val/accuracy/total:0' shape=() dtype=float32_ref>,\n",
              " <tf.Variable 'le_net/metrics/val/accuracy/count:0' shape=() dtype=float32_ref>,\n",
              " <tf.Variable 'le_net/metrics/val/loss/total:0' shape=() dtype=float32_ref>,\n",
              " <tf.Variable 'le_net/metrics/val/loss/count:0' shape=() dtype=float32_ref>,\n",
              " <tf.Variable 'le_net/metrics/train/accuracy_1/total:0' shape=() dtype=float32_ref>,\n",
              " <tf.Variable 'le_net/metrics/train/accuracy_1/count:0' shape=() dtype=float32_ref>,\n",
              " <tf.Variable 'le_net/metrics/train/loss_1/total:0' shape=() dtype=float32_ref>,\n",
              " <tf.Variable 'le_net/metrics/train/loss_1/count:0' shape=() dtype=float32_ref>,\n",
              " <tf.Variable 'le_net/metrics/val/accuracy_1/total:0' shape=() dtype=float32_ref>,\n",
              " <tf.Variable 'le_net/metrics/val/accuracy_1/count:0' shape=() dtype=float32_ref>,\n",
              " <tf.Variable 'le_net/metrics/val/loss_1/total:0' shape=() dtype=float32_ref>,\n",
              " <tf.Variable 'le_net/metrics/val/loss_1/count:0' shape=() dtype=float32_ref>,\n",
              " <tf.Variable 'le_net/metrics/train/accuracy_2/total:0' shape=() dtype=float32_ref>,\n",
              " <tf.Variable 'le_net/metrics/train/accuracy_2/count:0' shape=() dtype=float32_ref>,\n",
              " <tf.Variable 'le_net/metrics/train/loss_2/total:0' shape=() dtype=float32_ref>,\n",
              " <tf.Variable 'le_net/metrics/train/loss_2/count:0' shape=() dtype=float32_ref>,\n",
              " <tf.Variable 'le_net/metrics/val/accuracy_2/total:0' shape=() dtype=float32_ref>,\n",
              " <tf.Variable 'le_net/metrics/val/accuracy_2/count:0' shape=() dtype=float32_ref>,\n",
              " <tf.Variable 'le_net/metrics/val/loss_2/total:0' shape=() dtype=float32_ref>,\n",
              " <tf.Variable 'le_net/metrics/val/loss_2/count:0' shape=() dtype=float32_ref>]"
            ]
          },
          "metadata": {
            "tags": []
          },
          "execution_count": 44
        }
      ]
    },
    {
      "cell_type": "code",
      "metadata": {
        "id": "VD1gGzyOWEPY",
        "colab_type": "code",
        "colab": {
          "base_uri": "https://localhost:8080/",
          "height": 68
        },
        "outputId": "e2af4993-d4ba-479f-b0eb-d5ca8cc43b7a"
      },
      "source": [
        "from keras.datasets import cifar10\n",
        "from keras.utils import to_categorical\n",
        "\n",
        "(X_train, y_train), (X_test, y_test) = cifar10.load_data()\n",
        "y_train_labels = to_categorical(y_train)\n",
        "y_test_labels = to_categorical(y_test)"
      ],
      "execution_count": 22,
      "outputs": [
        {
          "output_type": "stream",
          "text": [
            "Using TensorFlow backend.\n"
          ],
          "name": "stderr"
        },
        {
          "output_type": "stream",
          "text": [
            "Downloading data from https://www.cs.toronto.edu/~kriz/cifar-10-python.tar.gz\n",
            "170500096/170498071 [==============================] - 6s 0us/step\n"
          ],
          "name": "stdout"
        }
      ]
    },
    {
      "cell_type": "code",
      "metadata": {
        "id": "HPykTuBNYrHb",
        "colab_type": "code",
        "colab": {}
      },
      "source": [
        "def reset_metrics(scope):\n",
        "#     print(tf.local_variables())\n",
        "    stream_variables = [v for v in tf.local_variables() if scope in v.name]\n",
        "    sess.run(tf.variables_initializer(stream_variables))"
      ],
      "execution_count": 0,
      "outputs": []
    },
    {
      "cell_type": "code",
      "metadata": {
        "id": "LYD8nu_KzeLZ",
        "colab_type": "code",
        "outputId": "b172b277-7911-4216-8b48-459090944705",
        "colab": {
          "base_uri": "https://localhost:8080/",
          "height": 34
        }
      },
      "source": [
        "# Check that data is ready\n",
        "\n",
        "sess.run(tf.global_variables_initializer())\n",
        "sess.run(tf.local_variables_initializer())\n",
        "sess.run([loss, le_net_accuracy_train], feed_dict={\n",
        "    digits_placeholder: X_train[:10],\n",
        "    labels_placeholder: y_train_labels[:10]\n",
        "})"
      ],
      "execution_count": 0,
      "outputs": [
        {
          "output_type": "execute_result",
          "data": {
            "text/plain": [
              "[37.533615, 0.0]"
            ]
          },
          "metadata": {
            "tags": []
          },
          "execution_count": 47
        }
      ]
    },
    {
      "cell_type": "code",
      "metadata": {
        "id": "qEN0LwAYyIAC",
        "colab_type": "code",
        "outputId": "2fe3beb1-32cd-440d-922e-970204b61fde",
        "colab": {
          "base_uri": "https://localhost:8080/",
          "height": 187
        }
      },
      "source": [
        "le_net_trainable_variables"
      ],
      "execution_count": 0,
      "outputs": [
        {
          "output_type": "execute_result",
          "data": {
            "text/plain": [
              "[<tf.Variable 'le_net/conv1/conv/weights:0' shape=(5, 5, 3, 6) dtype=float32_ref>,\n",
              " <tf.Variable 'le_net/conv1/conv/bias:0' shape=(6,) dtype=float32_ref>,\n",
              " <tf.Variable 'le_net/conv2/conv/weights:0' shape=(5, 5, 6, 16) dtype=float32_ref>,\n",
              " <tf.Variable 'le_net/conv2/conv/bias:0' shape=(16,) dtype=float32_ref>,\n",
              " <tf.Variable 'le_net/fc1/weights:0' shape=(1024, 120) dtype=float32_ref>,\n",
              " <tf.Variable 'le_net/fc1/bias:0' shape=(120,) dtype=float32_ref>,\n",
              " <tf.Variable 'le_net/fc2/weights:0' shape=(120, 84) dtype=float32_ref>,\n",
              " <tf.Variable 'le_net/fc2/bias:0' shape=(84,) dtype=float32_ref>,\n",
              " <tf.Variable 'le_net/fc3/weights:0' shape=(84, 10) dtype=float32_ref>,\n",
              " <tf.Variable 'le_net/fc3/bias:0' shape=(10,) dtype=float32_ref>]"
            ]
          },
          "metadata": {
            "tags": []
          },
          "execution_count": 48
        }
      ]
    },
    {
      "cell_type": "code",
      "metadata": {
        "id": "oJ4jtls_UNpN",
        "colab_type": "code",
        "colab": {}
      },
      "source": [
        "def iterate_batches(X, y, batch_size, shuffle=True):\n",
        "    assert len(X) == len(y)\n",
        "    \n",
        "    indices = np.arange(len(X))\n",
        "    if shuffle:\n",
        "        np.random.shuffle(indices)\n",
        "    \n",
        "    for index in range(0, len(X), batch_size):\n",
        "        yield X[index:index + batch_size], y[index:index + batch_size]"
      ],
      "execution_count": 0,
      "outputs": []
    },
    {
      "cell_type": "code",
      "metadata": {
        "id": "V9L01pAmzEUn",
        "colab_type": "code",
        "outputId": "d054f6aa-7151-4a01-cbea-e425ff7c699b",
        "colab": {
          "base_uri": "https://localhost:8080/",
          "height": 1000
        }
      },
      "source": [
        "for epoch_num in range(50):\n",
        "    reset_metrics('le_net/metrics/train')\n",
        "    reset_metrics('le_net/metrics/val')\n",
        "    for X_batch, y_batch in iterate_batches(X_train, y_train_labels, 500):\n",
        "        _, _, _ = sess.run([optimizer, le_net_accuracy_train_op, le_net_train_loss_op], feed_dict={\n",
        "            digits_placeholder: X_batch,\n",
        "            labels_placeholder: y_batch\n",
        "        })\n",
        "        # print(loss_value, accuracy)\n",
        "    \n",
        "    print(f'Epoch {epoch_num + 1} train [acc, loss]:', sess.run([le_net_accuracy_train, le_net_train_loss]))\n",
        "    \n",
        "    for X_batch, y_batch in iterate_batches(X_test, y_test_labels, 500, shuffle=False):\n",
        "        _, _ = sess.run([le_net_accuracy_val_op, le_net_val_loss_op], feed_dict = {\n",
        "            digits_placeholder: X_batch,\n",
        "            labels_placeholder: y_batch\n",
        "        })\n",
        "    print(f'Epoch {epoch_num + 1} val [acc, loss]:', sess.run([le_net_accuracy_val, le_net_val_loss]))"
      ],
      "execution_count": 0,
      "outputs": [
        {
          "output_type": "stream",
          "text": [
            "Epoch 1 train [acc, loss]: [0.12302, 3.3215249]\n",
            "Epoch 1 val [acc, loss]: [0.1512, 0.36490077]\n",
            "Epoch 2 train [acc, loss]: [0.16608, 0.35136887]\n",
            "Epoch 2 val [acc, loss]: [0.187, 0.33783063]\n",
            "Epoch 3 train [acc, loss]: [0.1994, 0.3302531]\n",
            "Epoch 3 val [acc, loss]: [0.219, 0.32274953]\n",
            "Epoch 4 train [acc, loss]: [0.23234, 0.3169203]\n",
            "Epoch 4 val [acc, loss]: [0.2463, 0.31234303]\n",
            "Epoch 5 train [acc, loss]: [0.26328, 0.30720618]\n",
            "Epoch 5 val [acc, loss]: [0.2731, 0.3045999]\n",
            "Epoch 6 train [acc, loss]: [0.28178, 0.2989803]\n",
            "Epoch 6 val [acc, loss]: [0.2922, 0.2977122]\n",
            "Epoch 7 train [acc, loss]: [0.30046, 0.29220814]\n",
            "Epoch 7 val [acc, loss]: [0.3115, 0.29127377]\n",
            "Epoch 8 train [acc, loss]: [0.31316, 0.28656602]\n",
            "Epoch 8 val [acc, loss]: [0.3266, 0.2857734]\n",
            "Epoch 9 train [acc, loss]: [0.32808, 0.28179651]\n",
            "Epoch 9 val [acc, loss]: [0.3318, 0.2822675]\n",
            "Epoch 10 train [acc, loss]: [0.3384, 0.27842686]\n",
            "Epoch 10 val [acc, loss]: [0.3347, 0.27977246]\n",
            "Epoch 11 train [acc, loss]: [0.34684, 0.27575427]\n",
            "Epoch 11 val [acc, loss]: [0.3401, 0.2775193]\n",
            "Epoch 12 train [acc, loss]: [0.35142, 0.27347565]\n",
            "Epoch 12 val [acc, loss]: [0.3481, 0.27556273]\n",
            "Epoch 13 train [acc, loss]: [0.35704, 0.27141076]\n",
            "Epoch 13 val [acc, loss]: [0.3547, 0.2734968]\n",
            "Epoch 14 train [acc, loss]: [0.36222, 0.26962617]\n",
            "Epoch 14 val [acc, loss]: [0.3597, 0.27171358]\n",
            "Epoch 15 train [acc, loss]: [0.36482, 0.26812315]\n",
            "Epoch 15 val [acc, loss]: [0.3638, 0.27045676]\n",
            "Epoch 16 train [acc, loss]: [0.37006, 0.26668477]\n",
            "Epoch 16 val [acc, loss]: [0.37, 0.26929253]\n",
            "Epoch 17 train [acc, loss]: [0.37456, 0.26534078]\n",
            "Epoch 17 val [acc, loss]: [0.3752, 0.2682178]\n",
            "Epoch 18 train [acc, loss]: [0.37846, 0.26417878]\n",
            "Epoch 18 val [acc, loss]: [0.3781, 0.26740533]\n",
            "Epoch 19 train [acc, loss]: [0.38064, 0.26307502]\n",
            "Epoch 19 val [acc, loss]: [0.3832, 0.26652008]\n",
            "Epoch 20 train [acc, loss]: [0.38448, 0.2621113]\n",
            "Epoch 20 val [acc, loss]: [0.3849, 0.26553312]\n",
            "Epoch 21 train [acc, loss]: [0.3878, 0.2610524]\n",
            "Epoch 21 val [acc, loss]: [0.3868, 0.26497772]\n",
            "Epoch 22 train [acc, loss]: [0.39082, 0.26017988]\n",
            "Epoch 22 val [acc, loss]: [0.3887, 0.2643652]\n",
            "Epoch 23 train [acc, loss]: [0.39432, 0.25938556]\n",
            "Epoch 23 val [acc, loss]: [0.3908, 0.2639634]\n",
            "Epoch 24 train [acc, loss]: [0.39578, 0.25865865]\n",
            "Epoch 24 val [acc, loss]: [0.3922, 0.26354998]\n",
            "Epoch 25 train [acc, loss]: [0.39858, 0.2578959]\n",
            "Epoch 25 val [acc, loss]: [0.3946, 0.2624455]\n",
            "Epoch 26 train [acc, loss]: [0.40136, 0.2570755]\n",
            "Epoch 26 val [acc, loss]: [0.3979, 0.26236364]\n",
            "Epoch 27 train [acc, loss]: [0.40354, 0.25633913]\n",
            "Epoch 27 val [acc, loss]: [0.3972, 0.26254904]\n",
            "Epoch 28 train [acc, loss]: [0.40622, 0.25571916]\n",
            "Epoch 28 val [acc, loss]: [0.3986, 0.26237053]\n",
            "Epoch 29 train [acc, loss]: [0.40766, 0.25503945]\n",
            "Epoch 29 val [acc, loss]: [0.3968, 0.2620905]\n",
            "Epoch 30 train [acc, loss]: [0.41126, 0.25441462]\n",
            "Epoch 30 val [acc, loss]: [0.3949, 0.26234683]\n",
            "Epoch 31 train [acc, loss]: [0.41326, 0.25382897]\n",
            "Epoch 31 val [acc, loss]: [0.3989, 0.26179284]\n",
            "Epoch 32 train [acc, loss]: [0.4144, 0.25324193]\n",
            "Epoch 32 val [acc, loss]: [0.4023, 0.26026747]\n",
            "Epoch 33 train [acc, loss]: [0.41628, 0.25267944]\n",
            "Epoch 33 val [acc, loss]: [0.4048, 0.25999838]\n",
            "Epoch 34 train [acc, loss]: [0.4195, 0.25203145]\n",
            "Epoch 34 val [acc, loss]: [0.4122, 0.25783136]\n",
            "Epoch 35 train [acc, loss]: [0.42192, 0.2513945]\n",
            "Epoch 35 val [acc, loss]: [0.4127, 0.25665736]\n",
            "Epoch 36 train [acc, loss]: [0.42384, 0.25076917]\n",
            "Epoch 36 val [acc, loss]: [0.4149, 0.255727]\n",
            "Epoch 37 train [acc, loss]: [0.4269, 0.2501177]\n",
            "Epoch 37 val [acc, loss]: [0.4184, 0.25506133]\n",
            "Epoch 38 train [acc, loss]: [0.42878, 0.2494816]\n",
            "Epoch 38 val [acc, loss]: [0.4214, 0.25418553]\n",
            "Epoch 39 train [acc, loss]: [0.43104, 0.24893998]\n",
            "Epoch 39 val [acc, loss]: [0.4244, 0.25361145]\n",
            "Epoch 40 train [acc, loss]: [0.43334, 0.24833742]\n",
            "Epoch 40 val [acc, loss]: [0.4256, 0.2531259]\n",
            "Epoch 41 train [acc, loss]: [0.4362, 0.24767204]\n",
            "Epoch 41 val [acc, loss]: [0.4303, 0.25217682]\n",
            "Epoch 42 train [acc, loss]: [0.43964, 0.24673617]\n",
            "Epoch 42 val [acc, loss]: [0.4313, 0.25147822]\n",
            "Epoch 43 train [acc, loss]: [0.4428, 0.24597783]\n",
            "Epoch 43 val [acc, loss]: [0.431, 0.2510617]\n",
            "Epoch 44 train [acc, loss]: [0.44656, 0.24520627]\n",
            "Epoch 44 val [acc, loss]: [0.4344, 0.25000566]\n",
            "Epoch 45 train [acc, loss]: [0.44894, 0.2444194]\n",
            "Epoch 45 val [acc, loss]: [0.4381, 0.24952285]\n",
            "Epoch 46 train [acc, loss]: [0.451, 0.24345315]\n",
            "Epoch 46 val [acc, loss]: [0.4385, 0.24871206]\n",
            "Epoch 47 train [acc, loss]: [0.4546, 0.2426013]\n",
            "Epoch 47 val [acc, loss]: [0.4448, 0.24763818]\n",
            "Epoch 48 train [acc, loss]: [0.45834, 0.24168757]\n",
            "Epoch 48 val [acc, loss]: [0.4501, 0.24645546]\n",
            "Epoch 49 train [acc, loss]: [0.46376, 0.23993969]\n",
            "Epoch 49 val [acc, loss]: [0.4575, 0.24375606]\n",
            "Epoch 50 train [acc, loss]: [0.4715, 0.23755367]\n",
            "Epoch 50 val [acc, loss]: [0.4638, 0.24194932]\n"
          ],
          "name": "stdout"
        }
      ]
    },
    {
      "cell_type": "markdown",
      "metadata": {
        "id": "39z0nTz3piAC",
        "colab_type": "text"
      },
      "source": [
        "### Batch Norm"
      ]
    },
    {
      "cell_type": "markdown",
      "metadata": {
        "id": "w9jsK2O8pl7P",
        "colab_type": "text"
      },
      "source": [
        "Идея была высказана в 2014 году. Говорится,  что из-за смещенности градиентов нарушаются общие правила нормальности, применимые после входного слоя. Поэтому предлагается производить смещение в новый масштаб.\n",
        "\n",
        "Иными словами,\n",
        "\n",
        "$$\n",
        "    out = \\gamma \\cdot \\frac{x - \\mathrm{E}x}{\\sqrt{\\mathrm{D}x + \\varepsilon}} + \\beta,\n",
        "$$\n",
        "\n",
        "где $\\gamma$ и $\\beta$ являются обучаемыми параметрами. \n",
        "\n",
        "\n",
        "**Вопрос** Как вычислять значение $\\mathrm{E}x$, $\\mathrm{D}x$?\n",
        "\n",
        "**Ответ** Во время обучения: вычислять по batch-у, во время валидации - вычислять скользящее среднее по $\\mathrm{E}$ и $\\mathrm{D}$."
      ]
    },
    {
      "cell_type": "code",
      "metadata": {
        "id": "4_0exE-rWQa_",
        "colab_type": "code",
        "colab": {}
      },
      "source": [
        ""
      ],
      "execution_count": 0,
      "outputs": []
    },
    {
      "cell_type": "code",
      "metadata": {
        "id": "aH3EfSGgVYNT",
        "colab_type": "code",
        "colab": {}
      },
      "source": [
        "def batch_norm(input_tensor, is_training, momentum=0.9, name='batch_norm'):\n",
        "    with tf.variable_scope(name, reuse=tf.AUTO_REUSE):\n",
        "        shapes = input_tensor.get_shape().as_list()\n",
        "        \n",
        "        gamma = tf.get_variable('gamma', shape=shapes[1:])\n",
        "        beta = tf.get_variable('beta', shape=shapes[1:])\n",
        "        \n",
        "        moving_mean = tf.get_variable('moving_mean', shape=shapes[1:], initializer=tf.zeros_initializer())\n",
        "        moving_var = tf.get_variable('moving_var', shape=shapes[1:], initializer=tf.zeros_initializer())\n",
        "        \n",
        "        \n",
        "        updates = []\n",
        "        \n",
        "        def training_fn():\n",
        "            current_mean, current_var = tf.nn.moments(input_tensor, axes=0)\n",
        "            x_norm = (input_tensor - current_mean) / tf.sqrt(current_var + 1e-8)\n",
        "            updates.append(\n",
        "                tf.assign(moving_mean, moving_mean * momentum + current_mean * (1 - momentum))\n",
        "            )\n",
        "            updates.append(\n",
        "                tf.assign(moving_var, moving_var * momentum + current_var * (1 - momentum))\n",
        "            )\n",
        "            \n",
        "            return x_norm, updates\n",
        "        \n",
        "        def test_fn():\n",
        "            x_norm = (input_tensor - moving_mean) / tf.sqrt(moving_var + 1e-8)\n",
        "            return x_norm, updates\n",
        "        \n",
        "        \n",
        "        x_norm, updates = tf.cond(\n",
        "            is_training,\n",
        "            true_fn=training_fn,\n",
        "            false_fn=test_fn\n",
        "        )\n",
        "        \n",
        "        return gamma * x_norm + beta, updates\n",
        "            "
      ],
      "execution_count": 0,
      "outputs": []
    },
    {
      "cell_type": "code",
      "metadata": {
        "id": "1v3tmwm-ZJRC",
        "colab_type": "code",
        "colab": {}
      },
      "source": [
        ""
      ],
      "execution_count": 0,
      "outputs": []
    },
    {
      "cell_type": "code",
      "metadata": {
        "id": "AEJ7vfQLT1J4",
        "colab_type": "code",
        "colab": {}
      },
      "source": [
        "def conv_block_with_bn(x, output_channels, is_training, name, kernel_size=(3, 3), padding='SAME'):\n",
        "    with tf.variable_scope(name, reuse=tf.AUTO_REUSE):\n",
        "        conv_out = conv_layer(x, output_channels, kernel_size=kernel_size, padding=padding)\n",
        "        bn_out, updates = batch_norm(conv_out, is_training)\n",
        "        activation = tf.nn.relu(conv_out, name='relu')\n",
        "    return activation, updates"
      ],
      "execution_count": 0,
      "outputs": []
    },
    {
      "cell_type": "code",
      "metadata": {
        "id": "GVD9hTEkZYxh",
        "colab_type": "code",
        "colab": {}
      },
      "source": [
        "def le_net_with_bn(input_tensor, is_training):\n",
        "    with tf.variable_scope('le_net_with_bn', reuse=tf.AUTO_REUSE):\n",
        "        conv1_out, updates_conv1 = conv_block_with_bn(\n",
        "            input_tensor, 6,\n",
        "            is_training=is_training,\n",
        "            name='conv1',\n",
        "            kernel_size=(5, 5),\n",
        "            padding='VALID'\n",
        "        )\n",
        "        pool1_out = max_pool(conv1_out, name='pool1')\n",
        "        conv2_out, updates_conv2 = conv_block_with_bn(\n",
        "            pool1_out, 16,\n",
        "            is_training=is_training,\n",
        "            name='conv2',\n",
        "            kernel_size=(5, 5),\n",
        "            padding='VALID'\n",
        "        )\n",
        "        \n",
        "        pool2_out = max_pool(conv2_out, name='pool2')\n",
        "        \n",
        "        flatten_out = flatten(pool2_out)\n",
        "        \n",
        "        fc1_out = dense(flatten_out, 120, name='fc1')\n",
        "        fc2_out = dense(fc1_out, 84, name='fc2')\n",
        "        \n",
        "        output = dense(fc2_out, 10, name='fc3')\n",
        "    return output, updates_conv1 + updates_conv2\n",
        "        "
      ],
      "execution_count": 0,
      "outputs": []
    },
    {
      "cell_type": "code",
      "metadata": {
        "id": "hqA8xj-dZ7xl",
        "colab_type": "code",
        "colab": {
          "base_uri": "https://localhost:8080/",
          "height": 51
        },
        "outputId": "3a8f0a80-792c-4a7d-c46f-8ca26bb971fc"
      },
      "source": [
        "digits_placeholder = tf.placeholder(tf.float32, [None, 32, 32, 3], name='digits_bn')\n",
        "le_net_is_training = tf.placeholder(tf.bool, [])\n",
        "\n",
        "logits, le_net_bn_updates = le_net_with_bn(digits_placeholder, is_training=le_net_is_training)\n",
        "labels_placeholder = tf.placeholder(tf.float32, [None, 10], name='le_net_labels_bn')\n",
        "\n",
        "\n",
        "loss = tf.reduce_mean(\n",
        "    tf.nn.sigmoid_cross_entropy_with_logits(\n",
        "        labels=labels_placeholder,\n",
        "        logits=logits\n",
        "    ),\n",
        "    name='le_net_loss_bn'\n",
        ")"
      ],
      "execution_count": 31,
      "outputs": [
        {
          "output_type": "stream",
          "text": [
            "3 6\n",
            "6 16\n"
          ],
          "name": "stdout"
        }
      ]
    },
    {
      "cell_type": "code",
      "metadata": {
        "id": "5tFRKmpyaoKU",
        "colab_type": "code",
        "colab": {
          "base_uri": "https://localhost:8080/",
          "height": 85
        },
        "outputId": "0468cf40-54a1-4be1-f01e-020be2d4d14a"
      },
      "source": [
        "le_net_bn_updates"
      ],
      "execution_count": 32,
      "outputs": [
        {
          "output_type": "execute_result",
          "data": {
            "text/plain": [
              "[<tf.Tensor 'le_net_with_bn_1/conv1/batch_norm/cond/Merge_1:0' shape=(32, 32, 6) dtype=float32_ref>,\n",
              " <tf.Tensor 'le_net_with_bn_1/conv1/batch_norm/cond/Merge_2:0' shape=(32, 32, 6) dtype=float32_ref>,\n",
              " <tf.Tensor 'le_net_with_bn_1/conv2/batch_norm/cond/Merge_1:0' shape=(16, 16, 16) dtype=float32_ref>,\n",
              " <tf.Tensor 'le_net_with_bn_1/conv2/batch_norm/cond/Merge_2:0' shape=(16, 16, 16) dtype=float32_ref>]"
            ]
          },
          "metadata": {
            "tags": []
          },
          "execution_count": 32
        }
      ]
    },
    {
      "cell_type": "code",
      "metadata": {
        "id": "hcnJYCp-azMr",
        "colab_type": "code",
        "colab": {}
      },
      "source": [
        "le_net_predictions = tf.argmax(logits, axis=1)\n",
        "le_net_target = tf.argmax(labels_placeholder, axis=1)"
      ],
      "execution_count": 0,
      "outputs": []
    },
    {
      "cell_type": "code",
      "metadata": {
        "id": "jRiDz0g5a4WO",
        "colab_type": "code",
        "colab": {}
      },
      "source": [
        "le_net_trainable_variables = tf.get_collection(tf.GraphKeys.TRAINABLE_VARIABLES, scope='le_net_with_bn')\n",
        "optimizer = tf.train.AdamOptimizer(learning_rate=0.001).minimize(loss, var_list=le_net_trainable_variables)\n"
      ],
      "execution_count": 0,
      "outputs": []
    },
    {
      "cell_type": "code",
      "metadata": {
        "id": "pACzpAD3bDm_",
        "colab_type": "code",
        "colab": {}
      },
      "source": [
        "with tf.name_scope('le_net_with_bn/metrics/train/'):\n",
        "    le_net_accuracy_train, le_net_accuracy_train_op = tf.metrics.accuracy(\n",
        "        labels=le_net_target,\n",
        "        predictions=le_net_predictions\n",
        "    )\n",
        "    le_net_train_loss, le_net_train_loss_op = tf.metrics.mean(values=loss, name='loss')\n",
        "with tf.name_scope('le_net_with_bn/metrics/val/'):\n",
        "    le_net_accuracy_val, le_net_accuracy_val_op = tf.metrics.accuracy(\n",
        "        labels=le_net_target,\n",
        "        predictions=le_net_predictions\n",
        "    )\n",
        "    le_net_val_loss, le_net_val_loss_op = tf.metrics.mean(values=loss, name='loss')"
      ],
      "execution_count": 0,
      "outputs": []
    },
    {
      "cell_type": "code",
      "metadata": {
        "id": "Tz5P4qjobi3C",
        "colab_type": "code",
        "colab": {
          "base_uri": "https://localhost:8080/",
          "height": 34
        },
        "outputId": "6fd61ba4-9f8a-49bd-ec81-e86bd698910f"
      },
      "source": [
        "# Check that data is ready\n",
        "\n",
        "sess.run(tf.global_variables_initializer())\n",
        "sess.run(tf.local_variables_initializer())\n",
        "sess.run([loss, le_net_accuracy_train], feed_dict={\n",
        "    digits_placeholder: X_train[:10],\n",
        "    labels_placeholder: y_train_labels[:10]\n",
        "})"
      ],
      "execution_count": 47,
      "outputs": [
        {
          "output_type": "execute_result",
          "data": {
            "text/plain": [
              "[50.729805, 0.0]"
            ]
          },
          "metadata": {
            "tags": []
          },
          "execution_count": 47
        }
      ]
    },
    {
      "cell_type": "code",
      "metadata": {
        "id": "O0V-PSDPbtcE",
        "colab_type": "code",
        "colab": {
          "base_uri": "https://localhost:8080/",
          "height": 1000
        },
        "outputId": "357da11a-36dc-4cf3-e3de-131f0f99a9e5"
      },
      "source": [
        "sess.run([le_net_bn_updates], feed_dict={\n",
        "    digits_placeholder: X_train[:10],\n",
        "    labels_placeholder: y_train_labels[:10],\n",
        "    le_net_is_training: True\n",
        "})"
      ],
      "execution_count": 46,
      "outputs": [
        {
          "output_type": "execute_result",
          "data": {
            "text/plain": [
              "[[array([[[ -3.1017096 ,  -5.142069  ,  -5.898684  , -12.288537  ,\n",
              "             2.072259  ,  20.837652  ],\n",
              "          [  4.680128  , -11.120708  ,   9.001704  , -33.63533   ,\n",
              "            -6.888851  ,  39.380573  ],\n",
              "          [ -7.2179933 ,  15.750944  ,  19.95152   , -52.10657   ,\n",
              "            -9.464336  ,  49.269268  ],\n",
              "          ...,\n",
              "          [ -8.955038  ,  20.772642  ,  18.805264  , -56.996674  ,\n",
              "            -7.617364  ,  51.141716  ],\n",
              "          [-11.586714  ,  48.62919   ,  11.0904    , -39.519424  ,\n",
              "            -2.6673908 ,  33.804123  ],\n",
              "          [-17.453005  ,  45.559677  ,   7.2546577 , -48.63405   ,\n",
              "             6.8317394 ,  33.246803  ]],\n",
              "  \n",
              "         [[  3.8627667 ,  -8.095735  , -14.979475  , -25.914753  ,\n",
              "             3.0069888 ,  39.498253  ],\n",
              "          [  8.23344   ,  -2.034103  ,   7.003866  , -47.766064  ,\n",
              "           -14.13019   ,  55.825233  ],\n",
              "          [  3.4778981 ,  30.103508  ,  26.763515  , -59.94816   ,\n",
              "            -3.5466213 ,  69.39031   ],\n",
              "          ...,\n",
              "          [  2.2605326 ,  37.961643  ,  28.744827  , -66.22968   ,\n",
              "            -4.13821   ,  73.32628   ],\n",
              "          [ -0.4233692 ,  73.0307    ,  33.278084  , -52.684532  ,\n",
              "            -0.83059233,  60.94279   ],\n",
              "          [-11.603253  ,  57.557163  ,  20.862225  , -47.28799   ,\n",
              "             2.4737198 ,  48.274277  ]],\n",
              "  \n",
              "         [[  2.4955626 ,   5.9451585 ,   3.6240878 , -54.08087   ,\n",
              "           -19.306454  ,  50.081207  ],\n",
              "          [ 15.2242985 ,  16.367039  ,  35.6426    , -75.354034  ,\n",
              "           -40.221294  ,  56.36834   ],\n",
              "          [ 22.920439  ,  41.540237  ,  51.402386  , -78.586395  ,\n",
              "           -16.65188   ,  68.91545   ],\n",
              "          ...,\n",
              "          [ 22.760809  ,  53.291656  ,  56.795914  , -84.07039   ,\n",
              "           -18.387424  ,  74.32561   ],\n",
              "          [ 24.714367  ,  86.64664   ,  48.817543  , -63.578766  ,\n",
              "            -5.2435246 ,  66.55865   ],\n",
              "          [  5.671932  ,  64.89797   ,  39.63744   , -49.215424  ,\n",
              "             3.3422859 ,  43.39073   ]],\n",
              "  \n",
              "         ...,\n",
              "  \n",
              "         [[  0.55623925,   2.243126  ,  -1.0792887 , -55.261776  ,\n",
              "           -17.95756   ,  50.1849    ],\n",
              "          [ 13.127316  ,  16.350994  ,  31.186172  , -77.09441   ,\n",
              "           -39.341938  ,  56.020676  ],\n",
              "          [ 19.944748  ,  46.111626  ,  47.99334   , -76.27043   ,\n",
              "           -11.173745  ,  63.518456  ],\n",
              "          ...,\n",
              "          [ 12.065609  ,  27.297571  ,  31.421913  , -61.1876    ,\n",
              "           -13.592773  ,  47.514874  ],\n",
              "          [ 15.817811  ,  59.04663   ,  31.603355  , -43.86783   ,\n",
              "            -3.7459753 ,  40.64879   ],\n",
              "          [  2.2177126 ,  46.162308  ,  24.342712  , -33.158264  ,\n",
              "             6.012638  ,  27.87281   ]],\n",
              "  \n",
              "         [[ 13.363053  ,   4.563195  ,  11.824438  , -50.078144  ,\n",
              "           -23.292429  ,  43.672348  ],\n",
              "          [ 21.136875  ,  27.572308  ,  35.560505  , -67.53487   ,\n",
              "           -42.72224   ,  45.648697  ],\n",
              "          [ 24.902628  ,  51.98741   ,  45.108284  , -57.79299   ,\n",
              "           -13.595239  ,  55.557426  ],\n",
              "          ...,\n",
              "          [ 15.128992  ,  32.978836  ,  29.473446  , -45.025658  ,\n",
              "           -13.762098  ,  39.369217  ],\n",
              "          [ 13.457168  ,  60.23108   ,  29.701134  , -34.328808  ,\n",
              "            -1.6900914 ,  40.025223  ],\n",
              "          [  3.106083  ,  39.990257  ,  18.814445  , -28.729038  ,\n",
              "             7.008806  ,  21.732185  ]],\n",
              "  \n",
              "         [[ -1.7396442 ,  15.09723   ,  19.07051   , -38.786797  ,\n",
              "           -32.983166  ,  47.491005  ],\n",
              "          [ 10.565087  ,  39.304672  ,  50.88152   , -57.457355  ,\n",
              "           -50.192173  ,  38.27922   ],\n",
              "          [ 22.42079   ,  47.321056  ,  67.32964   , -45.363235  ,\n",
              "           -26.031647  ,  45.78751   ],\n",
              "          ...,\n",
              "          [ 12.509645  ,  33.573807  ,  47.963356  , -35.93891   ,\n",
              "           -22.422758  ,  34.047615  ],\n",
              "          [ 16.836084  ,  47.53554   ,  44.19412   , -36.980995  ,\n",
              "           -14.048187  ,  33.580612  ],\n",
              "          [ 15.556822  ,  28.483677  ,  31.12045   , -28.395313  ,\n",
              "            -5.1946464 ,  19.44395   ]]], dtype=float32),\n",
              "  array([[[  67.62748 ,   78.66575 ,   69.04526 ,  166.80612 ,\n",
              "            106.63074 ,  507.91513 ],\n",
              "          [ 133.20456 ,  163.73508 ,   84.71925 ,  923.34094 ,\n",
              "             51.78731 , 1633.1337  ],\n",
              "          [ 138.459   ,  438.53906 ,  315.84326 , 2328.0386  ,\n",
              "             77.57909 , 2513.5923  ],\n",
              "          ...,\n",
              "          [ 115.02052 ,  283.94836 ,  297.38226 , 1556.6409  ,\n",
              "            187.3466  , 2466.334   ],\n",
              "          [  50.57022 , 1144.2275  ,  118.51987 ,  757.1118  ,\n",
              "             93.5269  , 1400.8126  ],\n",
              "          [ 154.56354 , 1003.245   ,   29.395756, 1281.9495  ,\n",
              "             60.29963 , 1128.4899  ]],\n",
              "  \n",
              "         [[  69.68129 ,   88.68625 ,  145.6903  ,  513.56573 ,\n",
              "             70.89937 , 1589.8982  ],\n",
              "          [  62.73879 ,  116.64496 ,  144.8335  , 1766.2782  ,\n",
              "            270.21994 , 3600.5146  ],\n",
              "          [  80.15667 , 1371.4855  ,  833.2191  , 3017.4526  ,\n",
              "            147.80919 , 4751.9756  ],\n",
              "          ...,\n",
              "          [ 163.64871 ,  580.17456 ,  614.37854 , 2112.2515  ,\n",
              "            175.3786  , 3803.0571  ],\n",
              "          [  61.841537, 2279.5254  ,  746.93225 , 1258.0784  ,\n",
              "            139.44691 , 3140.6064  ],\n",
              "          [ 212.63779 , 1398.0387  ,  139.83286 , 1093.9293  ,\n",
              "             60.533722, 1837.6428  ]],\n",
              "  \n",
              "         [[ 114.35551 ,  261.06445 ,  147.2512  , 2081.8455  ,\n",
              "            428.30765 , 2511.9282  ],\n",
              "          [ 218.93959 ,  799.3292  , 1366.5447  , 4374.549   ,\n",
              "           1528.3256  , 3709.08    ],\n",
              "          [ 613.91956 , 2335.4197  , 2640.2966  , 4549.027   ,\n",
              "            558.2881  , 4956.7944  ],\n",
              "          ...,\n",
              "          [ 852.9591  ,  916.1084  , 1756.0774  , 3489.9988  ,\n",
              "            452.60962 , 3518.2576  ],\n",
              "          [ 747.2004  , 3269.9978  , 1232.6636  , 1768.7129  ,\n",
              "            170.36661 , 3322.9128  ],\n",
              "          [ 370.43732 , 1729.134   ,  610.0666  , 1305.3308  ,\n",
              "            131.08017 , 1561.798   ]],\n",
              "  \n",
              "         ...,\n",
              "  \n",
              "         [[  88.4709  ,  184.56131 ,   61.303116,  853.6545  ,\n",
              "            122.9606  ,  782.473   ],\n",
              "          [  69.98031 ,  221.921   ,  397.19336 , 1631.6572  ,\n",
              "            507.7019  , 1033.6072  ],\n",
              "          [ 132.88113 ,  680.34485 ,  679.02856 , 1870.0969  ,\n",
              "            277.84097 , 1283.9937  ],\n",
              "          ...,\n",
              "          [ 174.24312 ,  388.78506 ,  359.71008 ,  725.8515  ,\n",
              "            251.74036 ,  227.61893 ],\n",
              "          [ 285.6353  ,  784.0449  ,  505.6493  ,  353.90463 ,\n",
              "            239.48322 ,  295.60956 ],\n",
              "          [ 156.40886 ,  462.09882 ,  211.68184 ,  238.21527 ,\n",
              "            289.04385 ,  200.56361 ]],\n",
              "  \n",
              "         [[ 101.019615,  239.3614  ,   59.83283 ,  715.7907  ,\n",
              "            159.94144 ,  539.6494  ],\n",
              "          [ 145.1263  ,  479.7068  ,  353.52597 , 1362.6713  ,\n",
              "            519.75616 ,  671.6075  ],\n",
              "          [ 163.9558  ,  888.6824  ,  517.27606 , 1027.8857  ,\n",
              "            170.28644 ,  955.5725  ],\n",
              "          ...,\n",
              "          [  83.48469 ,  249.51059 ,  390.7472  ,  206.0152  ,\n",
              "             61.652477,  257.60297 ],\n",
              "          [ 108.9605  ,  482.00732 ,  265.93597 ,  234.71088 ,\n",
              "            154.53177 ,  286.0854  ],\n",
              "          [  36.971355,  234.8652  ,  174.3618  ,  231.2263  ,\n",
              "            292.6434  ,  191.57097 ]],\n",
              "  \n",
              "         [[  50.61345 ,  293.41388 ,  122.16815 ,  439.4511  ,\n",
              "            318.41284 ,  724.7191  ],\n",
              "          [  56.534805,  726.99164 ,  748.92487 ,  879.42566 ,\n",
              "            742.183   ,  500.41006 ],\n",
              "          [ 141.86102 ,  695.208   , 1179.1765  ,  521.7439  ,\n",
              "            183.54541 ,  596.22266 ],\n",
              "          ...,\n",
              "          [ 115.030106,  164.31831 ,  340.22443 ,  254.94534 ,\n",
              "            171.9426  ,  238.84631 ],\n",
              "          [  79.18329 ,  273.3128  ,  274.82    ,  228.60892 ,\n",
              "            136.47096 ,  307.4199  ],\n",
              "          [  37.446587,  166.53586 ,  143.34967 ,  191.35968 ,\n",
              "            215.36684 ,  207.574   ]]], dtype=float32),\n",
              "  array([[[ -8.488049  ,  -3.298949  ,   7.8551874 , ..., -11.789499  ,\n",
              "             0.3671088 ,  -1.5122896 ],\n",
              "          [ -3.950467  ,  -5.2958355 ,   2.1606383 , ...,  -7.6444416 ,\n",
              "             0.13842416,  -5.567037  ],\n",
              "          [  2.1815314 , -17.092308  ,   4.2415485 , ...,   0.41726398,\n",
              "            10.270996  ,   0.985947  ],\n",
              "          ...,\n",
              "          [ -4.740849  , -24.07796   ,  12.634102  , ...,   4.8885803 ,\n",
              "            14.5580845 ,   8.112255  ],\n",
              "          [-11.659178  , -33.134125  , -15.55612   , ...,  -5.2390203 ,\n",
              "             7.059652  , -12.45394   ],\n",
              "          [  9.0972595 , -25.630085  ,  -4.076101  , ...,   6.4482393 ,\n",
              "            17.20167   ,   9.182642  ]],\n",
              "  \n",
              "         [[ -9.032755  ,   6.5508194 ,  -3.13165   , ..., -22.58687   ,\n",
              "             1.3866968 ,  -7.374984  ],\n",
              "          [  7.367954  ,   5.7961893 , -14.536379  , ..., -28.337814  ,\n",
              "             7.1987514 , -12.584354  ],\n",
              "          [ 21.557085  ,  -8.5582    , -17.18613   , ..., -22.4235    ,\n",
              "            12.96478   ,  -7.2212877 ],\n",
              "          ...,\n",
              "          [ 15.916577  , -14.239443  ,  -6.8588295 , ..., -25.326538  ,\n",
              "            12.6237335 ,  -3.6491904 ],\n",
              "          [  5.1337166 , -30.163845  , -33.93783   , ..., -29.301716  ,\n",
              "            13.457859  , -30.920666  ],\n",
              "          [ 23.796087  , -25.96951   , -22.485323  , ..., -18.438019  ,\n",
              "            19.929363  ,   3.876121  ]],\n",
              "  \n",
              "         [[  1.6894457 ,  16.109568  , -16.057001  , ..., -38.47206   ,\n",
              "            -4.101265  , -11.612797  ],\n",
              "          [ 30.033054  ,  17.679178  , -34.20498   , ..., -43.778072  ,\n",
              "             3.7205362 , -16.538197  ],\n",
              "          [ 49.880398  ,  10.896376  , -33.060593  , ..., -38.308464  ,\n",
              "             2.6689343 , -17.758297  ],\n",
              "          ...,\n",
              "          [ 41.922836  ,   7.801016  , -14.393295  , ..., -48.808037  ,\n",
              "            -6.0178347 , -18.83844   ],\n",
              "          [ 32.448563  , -10.968992  , -38.745323  , ..., -39.760162  ,\n",
              "            -3.7977939 , -41.95993   ],\n",
              "          [ 45.96691   , -15.40697   , -20.439016  , ..., -29.823906  ,\n",
              "             8.00604   ,  -3.9745758 ]],\n",
              "  \n",
              "         ...,\n",
              "  \n",
              "         [[ -3.0647228 ,  13.6614685 , -17.248829  , ..., -40.08071   ,\n",
              "            -2.785729  , -17.231985  ],\n",
              "          [ 26.695179  ,  14.495166  , -30.116894  , ..., -45.12809   ,\n",
              "             3.3401484 , -23.566841  ],\n",
              "          [ 41.934383  ,  11.094682  , -23.728714  , ..., -38.038242  ,\n",
              "             0.41092563, -24.220448  ],\n",
              "          ...,\n",
              "          [ 19.351196  ,   8.715985  ,  -4.0709586 , ..., -32.080757  ,\n",
              "            -7.3350677 , -11.647852  ],\n",
              "          [ 15.58404   ,  -3.599734  , -25.377153  , ..., -26.535534  ,\n",
              "            -7.373329  , -26.926725  ],\n",
              "          [ 27.153757  ,  -8.911986  , -10.8378105 , ..., -24.121868  ,\n",
              "             8.000954  ,  -2.6500604 ]],\n",
              "  \n",
              "         [[  5.5176163 ,  21.134243  ,  -5.8547487 , ..., -21.588064  ,\n",
              "           -21.33241   ,   0.5363987 ],\n",
              "          [ 28.224743  ,  17.420864  , -23.23451   , ..., -28.015194  ,\n",
              "            -9.729183  ,  -4.270513  ],\n",
              "          [ 39.85691   ,   9.684414  , -20.821445  , ..., -19.312824  ,\n",
              "           -18.147234  ,  -5.50367   ],\n",
              "          ...,\n",
              "          [ 18.291418  ,   7.219988  ,  -6.2269053 , ..., -19.50542   ,\n",
              "           -19.673458  ,  -4.810692  ],\n",
              "          [ 16.110758  ,  -7.5599008 , -15.474176  , ..., -13.903593  ,\n",
              "            -4.1346784 , -17.96433   ],\n",
              "          [ 21.551682  , -12.2072935 ,  -8.173547  , ..., -22.103853  ,\n",
              "             6.840381  ,   3.1856704 ]],\n",
              "  \n",
              "         [[ -1.0268703 ,  12.352524  , -21.517836  , ..., -31.675985  ,\n",
              "           -10.524791  ,   1.6796676 ],\n",
              "          [ 25.470526  ,   8.3591175 , -37.451424  , ..., -44.085213  ,\n",
              "            -3.6628275 ,  -1.4339175 ],\n",
              "          [ 31.880943  ,   9.96771   , -34.679153  , ..., -47.093964  ,\n",
              "           -14.070328  ,  -7.459793  ],\n",
              "          ...,\n",
              "          [ 18.641123  ,  11.472412  , -18.126827  , ..., -42.81139   ,\n",
              "           -16.354486  ,  -8.639203  ],\n",
              "          [ 18.475256  ,   2.7908568 , -22.22406   , ..., -28.770733  ,\n",
              "            -2.5537083 , -18.137238  ],\n",
              "          [ 22.32644   ,  -2.6983871 , -17.561722  , ..., -32.71136   ,\n",
              "             2.117597  ,  -3.7110987 ]]], dtype=float32),\n",
              "  array([[[ 108.32523 ,   37.300117,   48.821877, ...,  107.241104,\n",
              "             29.826035,   34.45407 ],\n",
              "          [  21.641354,   55.872902,   27.010927, ...,   49.175663,\n",
              "             22.107391,   18.122807],\n",
              "          [  58.482887,  314.30228 ,   51.086464, ...,   22.372154,\n",
              "            158.41798 ,  127.99065 ],\n",
              "          ...,\n",
              "          [  47.835068,  299.28638 ,  114.25406 , ...,   27.3096  ,\n",
              "            129.61145 ,  153.92302 ],\n",
              "          [  85.46567 ,  539.5741  ,  150.34758 , ...,   60.14338 ,\n",
              "             29.540846,   69.998764],\n",
              "          [  76.69768 ,  342.79617 ,   13.930308, ...,   50.125626,\n",
              "             93.618256,   97.282326]],\n",
              "  \n",
              "         [[  56.790512,   48.526432,   47.236557, ...,  304.17203 ,\n",
              "             18.468002,   67.71278 ],\n",
              "          [ 124.660805,   81.451675,  223.95427 , ...,  572.1365  ,\n",
              "            133.3426  ,   73.22969 ],\n",
              "          [ 456.58643 ,   97.18497 ,  391.01733 , ...,  427.54843 ,\n",
              "            113.36914 ,  138.94595 ],\n",
              "          ...,\n",
              "          [ 318.1488  ,  116.823616,  143.17212 , ...,  569.1658  ,\n",
              "            123.967545,   49.141182],\n",
              "          [ 103.76564 ,  375.87054 ,  627.5549  , ...,  434.18423 ,\n",
              "             60.07679 ,  352.76868 ],\n",
              "          [ 319.50436 ,  300.27966 ,  241.61926 , ...,  281.85312 ,\n",
              "            181.11246 ,   69.41407 ]],\n",
              "  \n",
              "         [[ 139.71149 ,  298.80914 ,  273.72116 , ...,  990.3198  ,\n",
              "             23.201376,  117.69111 ],\n",
              "          [1174.0057  ,  448.5036  ,  813.57043 , ..., 1077.3778  ,\n",
              "             58.970562,  114.656166],\n",
              "          [1600.927   ,  374.85266 ,  787.3742  , ..., 1013.16223 ,\n",
              "            156.66635 ,  235.1532  ],\n",
              "          ...,\n",
              "          [1169.6742  ,  341.41107 ,  212.65433 , ..., 1059.8921  ,\n",
              "            133.75911 ,  183.09454 ],\n",
              "          [ 620.35736 ,  169.70335 ,  660.8434  , ...,  661.27124 ,\n",
              "             38.879757,  716.08124 ],\n",
              "          [1074.6799  ,  158.83249 ,  241.11743 , ...,  419.65768 ,\n",
              "             55.29161 ,   40.11325 ]],\n",
              "  \n",
              "         ...,\n",
              "  \n",
              "         [[  18.764519,   97.932755,  166.99303 , ...,  539.3111  ,\n",
              "             86.66388 ,  139.21103 ],\n",
              "          [ 460.8839  ,  178.42804 ,  434.50034 , ...,  614.1812  ,\n",
              "            153.0635  ,  140.17542 ],\n",
              "          [ 511.7556  ,  320.80112 ,  245.49008 , ...,  509.64746 ,\n",
              "             23.77799 ,  275.0346  ],\n",
              "          ...,\n",
              "          [ 185.1064  ,  188.95436 ,  152.79875 , ...,  516.58435 ,\n",
              "            233.02419 ,  339.27686 ],\n",
              "          [ 188.48853 ,  157.06924 ,  222.48593 , ...,  218.82877 ,\n",
              "            116.121895,  337.72052 ],\n",
              "          [ 245.26346 ,  154.23138 ,  131.90945 , ...,  360.35477 ,\n",
              "            131.46974 ,   52.233852]],\n",
              "  \n",
              "         [[  33.697685,  137.99773 ,   38.651905, ...,  260.12964 ,\n",
              "            102.179115,   22.737083],\n",
              "          [ 433.26788 ,  128.64134 ,  295.31818 , ...,  413.75507 ,\n",
              "             69.61883 ,   93.408035],\n",
              "          [ 588.83154 ,  237.13567 ,  170.35968 , ...,  315.9807  ,\n",
              "            287.01074 ,  179.96704 ],\n",
              "          ...,\n",
              "          [ 189.06357 ,  171.07036 ,  160.42242 , ...,  322.68307 ,\n",
              "            115.04234 ,   86.05719 ],\n",
              "          [ 118.66786 ,   74.773895,  160.01639 , ...,  185.08618 ,\n",
              "             68.89676 ,  161.74617 ],\n",
              "          [ 222.70772 ,   63.031876,   31.411781, ...,  237.33563 ,\n",
              "             46.53694 ,   18.689386]],\n",
              "  \n",
              "         [[  23.88235 ,   54.485615,  151.03253 , ...,  306.98065 ,\n",
              "             42.551258,   21.114277],\n",
              "          [ 304.58047 ,   41.198887,  498.08783 , ...,  592.8584  ,\n",
              "             27.944057,   17.966892],\n",
              "          [ 343.40448 ,  142.33646 ,  389.38348 , ...,  732.00555 ,\n",
              "            101.81888 ,   49.90111 ],\n",
              "          ...,\n",
              "          [ 223.85724 ,   83.97487 ,   75.86695 , ...,  355.1861  ,\n",
              "            115.36    ,   99.4989  ],\n",
              "          [  97.29114 ,   27.521294,   78.65502 , ...,  216.1648  ,\n",
              "             43.798664,  115.491165],\n",
              "          [ 189.99005 ,   38.221027,   27.947758, ...,  143.0648  ,\n",
              "             17.161139,   14.859653]]], dtype=float32)]]"
            ]
          },
          "metadata": {
            "tags": []
          },
          "execution_count": 46
        }
      ]
    },
    {
      "cell_type": "code",
      "metadata": {
        "id": "dc8Vw3F5cEYe",
        "colab_type": "code",
        "colab": {
          "base_uri": "https://localhost:8080/",
          "height": 153
        },
        "outputId": "ed4d4bdb-a21b-49fe-fcb4-23faebb68096"
      },
      "source": [
        "tf.local_variables()"
      ],
      "execution_count": 49,
      "outputs": [
        {
          "output_type": "execute_result",
          "data": {
            "text/plain": [
              "[<tf.Variable 'le_net_with_bn/metrics/train/accuracy/total:0' shape=() dtype=float32_ref>,\n",
              " <tf.Variable 'le_net_with_bn/metrics/train/accuracy/count:0' shape=() dtype=float32_ref>,\n",
              " <tf.Variable 'le_net_with_bn/metrics/train/loss/total:0' shape=() dtype=float32_ref>,\n",
              " <tf.Variable 'le_net_with_bn/metrics/train/loss/count:0' shape=() dtype=float32_ref>,\n",
              " <tf.Variable 'le_net_with_bn/metrics/val/accuracy/total:0' shape=() dtype=float32_ref>,\n",
              " <tf.Variable 'le_net_with_bn/metrics/val/accuracy/count:0' shape=() dtype=float32_ref>,\n",
              " <tf.Variable 'le_net_with_bn/metrics/val/loss/total:0' shape=() dtype=float32_ref>,\n",
              " <tf.Variable 'le_net_with_bn/metrics/val/loss/count:0' shape=() dtype=float32_ref>]"
            ]
          },
          "metadata": {
            "tags": []
          },
          "execution_count": 49
        }
      ]
    },
    {
      "cell_type": "code",
      "metadata": {
        "id": "mDtKjniCcCPE",
        "colab_type": "code",
        "colab": {
          "base_uri": "https://localhost:8080/",
          "height": 1000
        },
        "outputId": "883d47a6-9bfc-4f20-f560-ced67e716dee"
      },
      "source": [
        "for epoch_num in range(50):\n",
        "    reset_metrics('le_net_with_bn/metrics/train')\n",
        "    reset_metrics('le_net_with_bn/metrics/val')\n",
        "    for X_batch, y_batch in iterate_batches(X_train, y_train_labels, 500):\n",
        "        _, _, _, _ = sess.run([optimizer, le_net_accuracy_train_op, le_net_train_loss_op, le_net_bn_updates], feed_dict={\n",
        "            digits_placeholder: X_batch,\n",
        "            labels_placeholder: y_batch,\n",
        "            le_net_is_training: True\n",
        "        })\n",
        "        # print(loss_value, accuracy)\n",
        "    \n",
        "    print(f'Epoch {epoch_num + 1} train [acc, loss]:', sess.run([le_net_accuracy_train, le_net_train_loss]))\n",
        "    \n",
        "    for X_batch, y_batch in iterate_batches(X_test, y_test_labels, 500, shuffle=False):\n",
        "        _, _ = sess.run([le_net_accuracy_val_op, le_net_val_loss_op], feed_dict = {\n",
        "            digits_placeholder: X_batch,\n",
        "            labels_placeholder: y_batch,\n",
        "            le_net_is_training: False\n",
        "        })\n",
        "    print(f'Epoch {epoch_num + 1} val [acc, loss]:', sess.run([le_net_accuracy_val, le_net_val_loss]))"
      ],
      "execution_count": 51,
      "outputs": [
        {
          "output_type": "stream",
          "text": [
            "Epoch 1 train [acc, loss]: [0.1597, 2.0267859]\n",
            "Epoch 1 val [acc, loss]: [0.2065, 0.44578362]\n",
            "Epoch 2 train [acc, loss]: [0.25512, 0.38029358]\n",
            "Epoch 2 val [acc, loss]: [0.2849, 0.34546083]\n",
            "Epoch 3 train [acc, loss]: [0.32528, 0.31620204]\n",
            "Epoch 3 val [acc, loss]: [0.3419, 0.30445805]\n",
            "Epoch 4 train [acc, loss]: [0.37432, 0.28682697]\n",
            "Epoch 4 val [acc, loss]: [0.3884, 0.28332666]\n",
            "Epoch 5 train [acc, loss]: [0.40724, 0.27045557]\n",
            "Epoch 5 val [acc, loss]: [0.4131, 0.2710501]\n",
            "Epoch 6 train [acc, loss]: [0.4325, 0.25972643]\n",
            "Epoch 6 val [acc, loss]: [0.4324, 0.26295257]\n",
            "Epoch 7 train [acc, loss]: [0.45032, 0.25204447]\n",
            "Epoch 7 val [acc, loss]: [0.4487, 0.2571283]\n",
            "Epoch 8 train [acc, loss]: [0.46696, 0.24611525]\n",
            "Epoch 8 val [acc, loss]: [0.4578, 0.25264758]\n",
            "Epoch 9 train [acc, loss]: [0.47936, 0.24138026]\n",
            "Epoch 9 val [acc, loss]: [0.4687, 0.24921548]\n",
            "Epoch 10 train [acc, loss]: [0.49008, 0.23736857]\n",
            "Epoch 10 val [acc, loss]: [0.4779, 0.24630252]\n",
            "Epoch 11 train [acc, loss]: [0.49932, 0.23395897]\n",
            "Epoch 11 val [acc, loss]: [0.4872, 0.24359922]\n",
            "Epoch 12 train [acc, loss]: [0.50576, 0.23094115]\n",
            "Epoch 12 val [acc, loss]: [0.4908, 0.24096708]\n",
            "Epoch 13 train [acc, loss]: [0.51318, 0.22828585]\n",
            "Epoch 13 val [acc, loss]: [0.4935, 0.23875296]\n",
            "Epoch 14 train [acc, loss]: [0.51924, 0.22582279]\n",
            "Epoch 14 val [acc, loss]: [0.4994, 0.23665977]\n",
            "Epoch 15 train [acc, loss]: [0.5262, 0.22364761]\n",
            "Epoch 15 val [acc, loss]: [0.5048, 0.23478675]\n",
            "Epoch 16 train [acc, loss]: [0.53048, 0.22165948]\n",
            "Epoch 16 val [acc, loss]: [0.5074, 0.23304959]\n",
            "Epoch 17 train [acc, loss]: [0.53488, 0.21982849]\n",
            "Epoch 17 val [acc, loss]: [0.5097, 0.23118336]\n",
            "Epoch 18 train [acc, loss]: [0.53922, 0.21805786]\n",
            "Epoch 18 val [acc, loss]: [0.515, 0.22973962]\n",
            "Epoch 19 train [acc, loss]: [0.54434, 0.2164315]\n",
            "Epoch 19 val [acc, loss]: [0.5176, 0.22837648]\n",
            "Epoch 20 train [acc, loss]: [0.54874, 0.21486787]\n",
            "Epoch 20 val [acc, loss]: [0.5228, 0.22742538]\n",
            "Epoch 21 train [acc, loss]: [0.55296, 0.21338055]\n",
            "Epoch 21 val [acc, loss]: [0.5255, 0.22654796]\n",
            "Epoch 22 train [acc, loss]: [0.5565, 0.2119745]\n",
            "Epoch 22 val [acc, loss]: [0.5274, 0.22574928]\n",
            "Epoch 23 train [acc, loss]: [0.56138, 0.21046685]\n",
            "Epoch 23 val [acc, loss]: [0.5327, 0.22451544]\n",
            "Epoch 24 train [acc, loss]: [0.56494, 0.20910187]\n",
            "Epoch 24 val [acc, loss]: [0.5351, 0.22339556]\n",
            "Epoch 25 train [acc, loss]: [0.5691, 0.20771942]\n",
            "Epoch 25 val [acc, loss]: [0.5377, 0.22247836]\n",
            "Epoch 26 train [acc, loss]: [0.572, 0.20659977]\n",
            "Epoch 26 val [acc, loss]: [0.5388, 0.22181293]\n",
            "Epoch 27 train [acc, loss]: [0.5748, 0.20570964]\n",
            "Epoch 27 val [acc, loss]: [0.538, 0.22168815]\n",
            "Epoch 28 train [acc, loss]: [0.57794, 0.20446868]\n",
            "Epoch 28 val [acc, loss]: [0.5393, 0.22107205]\n",
            "Epoch 29 train [acc, loss]: [0.5811, 0.20332277]\n",
            "Epoch 29 val [acc, loss]: [0.5392, 0.22047809]\n",
            "Epoch 30 train [acc, loss]: [0.58398, 0.2024344]\n",
            "Epoch 30 val [acc, loss]: [0.5409, 0.21960238]\n",
            "Epoch 31 train [acc, loss]: [0.58588, 0.20142984]\n",
            "Epoch 31 val [acc, loss]: [0.5435, 0.21914414]\n",
            "Epoch 32 train [acc, loss]: [0.58896, 0.20056356]\n",
            "Epoch 32 val [acc, loss]: [0.5443, 0.21835661]\n",
            "Epoch 33 train [acc, loss]: [0.59108, 0.1999026]\n",
            "Epoch 33 val [acc, loss]: [0.5457, 0.21797152]\n",
            "Epoch 34 train [acc, loss]: [0.5936, 0.19886114]\n",
            "Epoch 34 val [acc, loss]: [0.5506, 0.2170721]\n",
            "Epoch 35 train [acc, loss]: [0.5953, 0.19789612]\n",
            "Epoch 35 val [acc, loss]: [0.5546, 0.21640249]\n",
            "Epoch 36 train [acc, loss]: [0.59666, 0.19723393]\n",
            "Epoch 36 val [acc, loss]: [0.5555, 0.2160863]\n",
            "Epoch 37 train [acc, loss]: [0.59936, 0.19618218]\n",
            "Epoch 37 val [acc, loss]: [0.5569, 0.21556337]\n",
            "Epoch 38 train [acc, loss]: [0.60088, 0.195329]\n",
            "Epoch 38 val [acc, loss]: [0.5583, 0.21535735]\n",
            "Epoch 39 train [acc, loss]: [0.60196, 0.19457717]\n",
            "Epoch 39 val [acc, loss]: [0.5584, 0.21493718]\n",
            "Epoch 40 train [acc, loss]: [0.60448, 0.19378082]\n",
            "Epoch 40 val [acc, loss]: [0.5589, 0.21441936]\n",
            "Epoch 41 train [acc, loss]: [0.60514, 0.19328466]\n",
            "Epoch 41 val [acc, loss]: [0.5617, 0.21364483]\n",
            "Epoch 42 train [acc, loss]: [0.60748, 0.19259727]\n",
            "Epoch 42 val [acc, loss]: [0.5645, 0.21312971]\n",
            "Epoch 43 train [acc, loss]: [0.61016, 0.19174236]\n",
            "Epoch 43 val [acc, loss]: [0.5642, 0.2132887]\n",
            "Epoch 44 train [acc, loss]: [0.61272, 0.19120997]\n",
            "Epoch 44 val [acc, loss]: [0.5633, 0.21301635]\n",
            "Epoch 45 train [acc, loss]: [0.61374, 0.1909079]\n",
            "Epoch 45 val [acc, loss]: [0.5651, 0.21306436]\n",
            "Epoch 46 train [acc, loss]: [0.6155, 0.19001749]\n",
            "Epoch 46 val [acc, loss]: [0.5652, 0.2125278]\n",
            "Epoch 47 train [acc, loss]: [0.61744, 0.18930443]\n",
            "Epoch 47 val [acc, loss]: [0.5665, 0.21200688]\n",
            "Epoch 48 train [acc, loss]: [0.6202, 0.18870659]\n",
            "Epoch 48 val [acc, loss]: [0.5671, 0.2118444]\n",
            "Epoch 49 train [acc, loss]: [0.62102, 0.1882616]\n",
            "Epoch 49 val [acc, loss]: [0.5689, 0.21186876]\n",
            "Epoch 50 train [acc, loss]: [0.62202, 0.18775329]\n",
            "Epoch 50 val [acc, loss]: [0.5677, 0.21209721]\n"
          ],
          "name": "stdout"
        }
      ]
    },
    {
      "cell_type": "markdown",
      "metadata": {
        "id": "em06XsFT5k-8",
        "colab_type": "text"
      },
      "source": [
        "### AlexNet"
      ]
    },
    {
      "cell_type": "markdown",
      "metadata": {
        "id": "PDGIky_qwWB2",
        "colab_type": "text"
      },
      "source": [
        "### VGG\n",
        "\n",
        "Идея - использовать свертки 3 x 3 в большом количестве."
      ]
    },
    {
      "cell_type": "markdown",
      "metadata": {
        "id": "Hz2PyLmJwYwl",
        "colab_type": "text"
      },
      "source": [
        "### ResNet\n",
        "\n",
        "Идея - использовать residual-блоки"
      ]
    },
    {
      "cell_type": "markdown",
      "metadata": {
        "id": "xDsAPhbEwcvS",
        "colab_type": "text"
      },
      "source": [
        "### Inception\n",
        "\n",
        "Идея - использовать inception блоки и дополнительный loss для классификации"
      ]
    },
    {
      "cell_type": "markdown",
      "metadata": {
        "id": "PxDdOayowq-C",
        "colab_type": "text"
      },
      "source": [
        "### EffNet?\n",
        "\n",
        "ToDo"
      ]
    },
    {
      "cell_type": "markdown",
      "metadata": {
        "id": "ymtiQuSpw5ki",
        "colab_type": "text"
      },
      "source": [
        "### Аугментации датасетов\n",
        "\n",
        "Повороты, развороты, crop-ы, масштабирование"
      ]
    },
    {
      "cell_type": "code",
      "metadata": {
        "id": "NccK13pt5ms6",
        "colab_type": "code",
        "colab": {}
      },
      "source": [
        ""
      ],
      "execution_count": 0,
      "outputs": []
    }
  ]
}